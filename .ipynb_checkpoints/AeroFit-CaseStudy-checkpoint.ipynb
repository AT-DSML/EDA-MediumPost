{
 "cells": [
  {
   "cell_type": "markdown",
   "id": "3d7e5938-268d-495d-af82-18e18b26867d",
   "metadata": {},
   "source": [
    "## Problem Statement\n",
    "\n",
    "Aerofit being a fitness equipment company needs business insights and recommendations based on the prior 3 months data they have of their customers who bought their treadmill products.\n",
    "\n",
    "These insights and recommendations should improve service, get an idea on where to improve and on what product to focus on, by identifying the characteristics of the customers based on the treadmills they offer.\n",
    "\n",
    "\n",
    "\n"
   ]
  },
  {
   "cell_type": "markdown",
   "id": "44ee7b3a-1794-47e0-b68d-a787b0a8911e",
   "metadata": {
    "tags": []
   },
   "source": [
    "## Required package and options"
   ]
  },
  {
   "cell_type": "code",
   "execution_count": 48,
   "id": "c773d4a5-e345-43cc-8460-acf672b73c1b",
   "metadata": {
    "tags": []
   },
   "outputs": [],
   "source": [
    "%matplotlib inline\n",
    "\n",
    "import pandas as pd\n",
    "import numpy as np\n",
    "import seaborn as sns\n",
    "import matplotlib.pyplot as plt\n",
    "from IPython.display import display as d\n",
    "\n",
    "pd.options.display.min_rows = 10"
   ]
  },
  {
   "cell_type": "markdown",
   "id": "c88ef576-fe53-4bf2-862a-e926e42afbca",
   "metadata": {
    "tags": []
   },
   "source": [
    "## Initial Analysis"
   ]
  },
  {
   "cell_type": "code",
   "execution_count": null,
   "id": "73fd1cef-c986-4e79-b73d-e87b390175e2",
   "metadata": {
    "tags": []
   },
   "outputs": [],
   "source": [
    "aero = (\n",
    "        pd\n",
    "        .read_csv(\n",
    "                    filepath_or_buffer='https://d2beiqkhq929f0.cloudfront.net'+\n",
    "                                        '/public_assets/assets/000/001/125/original'+\n",
    "                                        '/aerofit_treadmill.csv?1639992749', \n",
    "                    sep=','\n",
    "                 )\n",
    "        )"
   ]
  },
  {
   "cell_type": "code",
   "execution_count": null,
   "id": "e9235e6d-0069-490e-912b-8449cebcd500",
   "metadata": {
    "tags": []
   },
   "outputs": [
    {
     "data": {
      "text/html": [
       "<div>\n",
       "<style scoped>\n",
       "    .dataframe tbody tr th:only-of-type {\n",
       "        vertical-align: middle;\n",
       "    }\n",
       "\n",
       "    .dataframe tbody tr th {\n",
       "        vertical-align: top;\n",
       "    }\n",
       "\n",
       "    .dataframe thead th {\n",
       "        text-align: right;\n",
       "    }\n",
       "</style>\n",
       "<table border=\"1\" class=\"dataframe\">\n",
       "  <thead>\n",
       "    <tr style=\"text-align: right;\">\n",
       "      <th></th>\n",
       "      <th>Product</th>\n",
       "      <th>Age</th>\n",
       "      <th>Gender</th>\n",
       "      <th>Education</th>\n",
       "      <th>MaritalStatus</th>\n",
       "      <th>Usage</th>\n",
       "      <th>Fitness</th>\n",
       "      <th>Income</th>\n",
       "      <th>Miles</th>\n",
       "    </tr>\n",
       "  </thead>\n",
       "  <tbody>\n",
       "    <tr>\n",
       "      <th>0</th>\n",
       "      <td>KP281</td>\n",
       "      <td>18</td>\n",
       "      <td>Male</td>\n",
       "      <td>14</td>\n",
       "      <td>Single</td>\n",
       "      <td>3</td>\n",
       "      <td>4</td>\n",
       "      <td>29562</td>\n",
       "      <td>112</td>\n",
       "    </tr>\n",
       "    <tr>\n",
       "      <th>1</th>\n",
       "      <td>KP281</td>\n",
       "      <td>19</td>\n",
       "      <td>Male</td>\n",
       "      <td>15</td>\n",
       "      <td>Single</td>\n",
       "      <td>2</td>\n",
       "      <td>3</td>\n",
       "      <td>31836</td>\n",
       "      <td>75</td>\n",
       "    </tr>\n",
       "    <tr>\n",
       "      <th>2</th>\n",
       "      <td>KP281</td>\n",
       "      <td>19</td>\n",
       "      <td>Female</td>\n",
       "      <td>14</td>\n",
       "      <td>Partnered</td>\n",
       "      <td>4</td>\n",
       "      <td>3</td>\n",
       "      <td>30699</td>\n",
       "      <td>66</td>\n",
       "    </tr>\n",
       "    <tr>\n",
       "      <th>3</th>\n",
       "      <td>KP281</td>\n",
       "      <td>19</td>\n",
       "      <td>Male</td>\n",
       "      <td>12</td>\n",
       "      <td>Single</td>\n",
       "      <td>3</td>\n",
       "      <td>3</td>\n",
       "      <td>32973</td>\n",
       "      <td>85</td>\n",
       "    </tr>\n",
       "    <tr>\n",
       "      <th>4</th>\n",
       "      <td>KP281</td>\n",
       "      <td>20</td>\n",
       "      <td>Male</td>\n",
       "      <td>13</td>\n",
       "      <td>Partnered</td>\n",
       "      <td>4</td>\n",
       "      <td>2</td>\n",
       "      <td>35247</td>\n",
       "      <td>47</td>\n",
       "    </tr>\n",
       "    <tr>\n",
       "      <th>...</th>\n",
       "      <td>...</td>\n",
       "      <td>...</td>\n",
       "      <td>...</td>\n",
       "      <td>...</td>\n",
       "      <td>...</td>\n",
       "      <td>...</td>\n",
       "      <td>...</td>\n",
       "      <td>...</td>\n",
       "      <td>...</td>\n",
       "    </tr>\n",
       "    <tr>\n",
       "      <th>175</th>\n",
       "      <td>KP781</td>\n",
       "      <td>40</td>\n",
       "      <td>Male</td>\n",
       "      <td>21</td>\n",
       "      <td>Single</td>\n",
       "      <td>6</td>\n",
       "      <td>5</td>\n",
       "      <td>83416</td>\n",
       "      <td>200</td>\n",
       "    </tr>\n",
       "    <tr>\n",
       "      <th>176</th>\n",
       "      <td>KP781</td>\n",
       "      <td>42</td>\n",
       "      <td>Male</td>\n",
       "      <td>18</td>\n",
       "      <td>Single</td>\n",
       "      <td>5</td>\n",
       "      <td>4</td>\n",
       "      <td>89641</td>\n",
       "      <td>200</td>\n",
       "    </tr>\n",
       "    <tr>\n",
       "      <th>177</th>\n",
       "      <td>KP781</td>\n",
       "      <td>45</td>\n",
       "      <td>Male</td>\n",
       "      <td>16</td>\n",
       "      <td>Single</td>\n",
       "      <td>5</td>\n",
       "      <td>5</td>\n",
       "      <td>90886</td>\n",
       "      <td>160</td>\n",
       "    </tr>\n",
       "    <tr>\n",
       "      <th>178</th>\n",
       "      <td>KP781</td>\n",
       "      <td>47</td>\n",
       "      <td>Male</td>\n",
       "      <td>18</td>\n",
       "      <td>Partnered</td>\n",
       "      <td>4</td>\n",
       "      <td>5</td>\n",
       "      <td>104581</td>\n",
       "      <td>120</td>\n",
       "    </tr>\n",
       "    <tr>\n",
       "      <th>179</th>\n",
       "      <td>KP781</td>\n",
       "      <td>48</td>\n",
       "      <td>Male</td>\n",
       "      <td>18</td>\n",
       "      <td>Partnered</td>\n",
       "      <td>4</td>\n",
       "      <td>5</td>\n",
       "      <td>95508</td>\n",
       "      <td>180</td>\n",
       "    </tr>\n",
       "  </tbody>\n",
       "</table>\n",
       "<p>180 rows × 9 columns</p>\n",
       "</div>"
      ],
      "text/plain": [
       "    Product  Age  Gender  Education MaritalStatus  Usage  Fitness  Income  \\\n",
       "0     KP281   18    Male         14        Single      3        4   29562   \n",
       "1     KP281   19    Male         15        Single      2        3   31836   \n",
       "2     KP281   19  Female         14     Partnered      4        3   30699   \n",
       "3     KP281   19    Male         12        Single      3        3   32973   \n",
       "4     KP281   20    Male         13     Partnered      4        2   35247   \n",
       "..      ...  ...     ...        ...           ...    ...      ...     ...   \n",
       "175   KP781   40    Male         21        Single      6        5   83416   \n",
       "176   KP781   42    Male         18        Single      5        4   89641   \n",
       "177   KP781   45    Male         16        Single      5        5   90886   \n",
       "178   KP781   47    Male         18     Partnered      4        5  104581   \n",
       "179   KP781   48    Male         18     Partnered      4        5   95508   \n",
       "\n",
       "     Miles  \n",
       "0      112  \n",
       "1       75  \n",
       "2       66  \n",
       "3       85  \n",
       "4       47  \n",
       "..     ...  \n",
       "175    200  \n",
       "176    200  \n",
       "177    160  \n",
       "178    120  \n",
       "179    180  \n",
       "\n",
       "[180 rows x 9 columns]"
      ]
     },
     "execution_count": 31,
     "metadata": {},
     "output_type": "execute_result"
    }
   ],
   "source": [
    "d(aero)"
   ]
  },
  {
   "cell_type": "code",
   "execution_count": null,
   "id": "dd1b2085-9a4f-4b45-8c27-ead501a41823",
   "metadata": {
    "tags": []
   },
   "outputs": [
    {
     "name": "stdout",
     "output_type": "stream",
     "text": [
      "<class 'pandas.core.frame.DataFrame'>\n",
      "RangeIndex: 180 entries, 0 to 179\n",
      "Data columns (total 9 columns):\n",
      " #   Column         Non-Null Count  Dtype \n",
      "---  ------         --------------  ----- \n",
      " 0   Product        180 non-null    object\n",
      " 1   Age            180 non-null    int64 \n",
      " 2   Gender         180 non-null    object\n",
      " 3   Education      180 non-null    int64 \n",
      " 4   MaritalStatus  180 non-null    object\n",
      " 5   Usage          180 non-null    int64 \n",
      " 6   Fitness        180 non-null    int64 \n",
      " 7   Income         180 non-null    int64 \n",
      " 8   Miles          180 non-null    int64 \n",
      "dtypes: int64(6), object(3)\n",
      "memory usage: 12.8+ KB\n"
     ]
    }
   ],
   "source": [
    "d(aero.info())"
   ]
  },
  {
   "cell_type": "markdown",
   "id": "f1065aed-8b0f-4dff-8853-f715784268d1",
   "metadata": {
    "tags": []
   },
   "source": [
    "#####  Insights/Comments\n",
    "\n",
    "- Above info shows that we have 180 observation without any null values for any of the columns.\n",
    "\n",
    "- Dtypes fall in either object or int64, few can be converted to category type and some of the int64 can be converted to a lower int type either int16 or int8 for reducing memory usage of file, this would be useful and significant if the dataset is pretty large.\n",
    "\n",
    "- Gender and MaritalStatus have very low cardinality meaning they have less variety of values and can be consider as category.\n",
    "\n",
    "- The columns like Age, Education, Usage, Fitness, Income, Miles can be converted to either int16 or int8 based on range."
   ]
  },
  {
   "cell_type": "code",
   "execution_count": null,
   "id": "8db029bf-00c6-4fbf-9552-97d5d8813cfd",
   "metadata": {
    "tags": []
   },
   "outputs": [
    {
     "data": {
      "text/plain": [
       "0.042721"
      ]
     },
     "execution_count": 34,
     "metadata": {},
     "output_type": "execute_result"
    }
   ],
   "source": [
    "(\n",
    "    aero\n",
    "    .memory_usage(deep=True)\n",
    "    .sum()/10**6\n",
    ")"
   ]
  },
  {
   "cell_type": "markdown",
   "id": "2eabc6ba-e2c3-4646-9635-b1b269df5468",
   "metadata": {
    "tags": []
   },
   "source": [
    "#####  Insights/Comments\n",
    "- Amount of memory allocated for the dataset, Convertion to MB by 10**6"
   ]
  },
  {
   "cell_type": "code",
   "execution_count": null,
   "id": "ce5dedea-97e6-4c65-a302-0fc87983e3fb",
   "metadata": {
    "tags": []
   },
   "outputs": [
    {
     "data": {
      "text/plain": [
       "iinfo(min=-128, max=127, dtype=int8)"
      ]
     },
     "execution_count": 35,
     "metadata": {},
     "output_type": "execute_result"
    }
   ],
   "source": [
    "d(\n",
    "    aero\n",
    "    ['Income']\n",
    "    .unique()\n",
    "    .min()\n",
    ")\n",
    "d(\n",
    "    aero\n",
    "    ['Income']\n",
    "    .unique()\n",
    "    .max()\n",
    ") # checking to see which integer type to convert for income wiithout losing precision #####  Comments\n",
    "d(np.iinfo('int32'))\n",
    "d(np.iinfo('int16'))\n",
    "d(np.iinfo('int8'))"
   ]
  },
  {
   "cell_type": "markdown",
   "id": "281f8136-2a82-49a4-be24-1e958051db42",
   "metadata": {
    "tags": []
   },
   "source": [
    "#####  Insights/Comments\n",
    "\n",
    "- Age, Education, Usage, Fitness can be converted to int8\n",
    "- Miles since it is already in int64 and not float64 we can convert it into int32 without loss in precision."
   ]
  },
  {
   "cell_type": "code",
   "execution_count": null,
   "id": "a3d5b7b2-2446-4da8-bbeb-d15eae253cad",
   "metadata": {
    "tags": []
   },
   "outputs": [
    {
     "data": {
      "text/plain": [
       "32.57648463285035"
      ]
     },
     "execution_count": 36,
     "metadata": {},
     "output_type": "execute_result"
    }
   ],
   "source": [
    "(\n",
    "    aero\n",
    "    .astype(\n",
    "            {'Gender':'category','MaritalStatus':'category',\n",
    "             'Age':'int8','Education':'int8','Usage':'int8',\n",
    "             'Fitness':'int8','Income':'int32','Miles':'int16'}\n",
    "           )\n",
    "    .memory_usage(deep=True)\n",
    "    .sum()\n",
    ")/(\n",
    "    aero\n",
    "    .memory_usage(deep=True)\n",
    "    .sum()\n",
    ")*100 # reduced memory allocation by 32.6% #####  Comments"
   ]
  },
  {
   "cell_type": "code",
   "execution_count": null,
   "id": "dd3e8471-9b63-432c-b700-e5e06b491388",
   "metadata": {
    "tags": []
   },
   "outputs": [],
   "source": [
    "def convert_aero(df):\n",
    "    return(\n",
    "        df\n",
    "        .astype(\n",
    "            {'Gender':'category','MaritalStatus':'category',\n",
    "             'Age':'int8','Education':'int8','Usage':'int8',\n",
    "             'Fitness':'int8','Income':'int32','Miles':'int16'}\n",
    "               )\n",
    "        .dropna()\n",
    "        .drop_duplicates()\n",
    "           )\n",
    "\n",
    "\n",
    "\n",
    "aero_df = convert_aero(aero)"
   ]
  },
  {
   "cell_type": "markdown",
   "id": "ff6f1c16-309e-42c4-adde-e739c5249e08",
   "metadata": {
    "tags": []
   },
   "source": [
    "#####  Insights/Comments\n",
    "- Making a new dataframe after converting datatypes to appropriate type\n",
    "- dropna() is not required, as there is no null values, might be a good practise\n",
    "- drop_duplicates is necessary for this dataset as a duplicate will influence plots and counts"
   ]
  },
  {
   "cell_type": "code",
   "execution_count": null,
   "id": "08d24db2-6fd8-4e8a-b340-6460c0a227e5",
   "metadata": {
    "tags": []
   },
   "outputs": [
    {
     "data": {
      "text/plain": [
       "(180, 9)"
      ]
     },
     "execution_count": 38,
     "metadata": {},
     "output_type": "execute_result"
    }
   ],
   "source": [
    "aero_df.shape# no of observations and features or rows and columns #####  Insights/Comments"
   ]
  },
  {
   "cell_type": "code",
   "execution_count": null,
   "id": "44192e4b-0385-4d52-88ed-47d189d52a1a",
   "metadata": {
    "tags": []
   },
   "outputs": [
    {
     "data": {
      "text/plain": [
       "Product            object\n",
       "Age                  int8\n",
       "Gender           category\n",
       "Education            int8\n",
       "MaritalStatus    category\n",
       "Usage                int8\n",
       "Fitness              int8\n",
       "Income              int32\n",
       "Miles               int16\n",
       "dtype: object"
      ]
     },
     "execution_count": 39,
     "metadata": {},
     "output_type": "execute_result"
    }
   ],
   "source": [
    "aero_df.dtypes# datatypes after converting #####  Insights/Comments"
   ]
  },
  {
   "cell_type": "code",
   "execution_count": null,
   "id": "c2687e05-4188-48c5-b191-9e5f7a27dbfc",
   "metadata": {
    "tags": []
   },
   "outputs": [
    {
     "data": {
      "text/plain": [
       "['Product',\n",
       " 'Age',\n",
       " 'Gender',\n",
       " 'Education',\n",
       " 'MaritalStatus',\n",
       " 'Usage',\n",
       " 'Fitness',\n",
       " 'Income',\n",
       " 'Miles']"
      ]
     },
     "execution_count": 40,
     "metadata": {},
     "output_type": "execute_result"
    }
   ],
   "source": [
    "d(list(aero_df.columns))# list of columns #####  Insights/Comments"
   ]
  },
  {
   "cell_type": "code",
   "execution_count": null,
   "id": "2f1b38b8-0975-4ef2-8f1c-430e8cc79204",
   "metadata": {
    "tags": []
   },
   "outputs": [
    {
     "name": "stdout",
     "output_type": "stream",
     "text": [
      "Product\n",
      "KP281    80\n",
      "KP481    60\n",
      "KP781    40\n",
      "Name: Product, dtype: int64\n",
      "\n",
      "Age\n",
      "25    25\n",
      "23    18\n",
      "24    12\n",
      "26    12\n",
      "28     9\n",
      "35     8\n",
      "33     8\n",
      "30     7\n",
      "38     7\n",
      "21     7\n",
      "22     7\n",
      "27     7\n",
      "31     6\n",
      "34     6\n",
      "29     6\n",
      "20     5\n",
      "40     5\n",
      "32     4\n",
      "19     4\n",
      "48     2\n",
      "37     2\n",
      "45     2\n",
      "47     2\n",
      "46     1\n",
      "50     1\n",
      "18     1\n",
      "44     1\n",
      "43     1\n",
      "41     1\n",
      "39     1\n",
      "36     1\n",
      "42     1\n",
      "Name: Age, dtype: int64\n",
      "\n",
      "Gender\n",
      "Male      104\n",
      "Female     76\n",
      "Name: Gender, dtype: int64\n",
      "\n",
      "Education\n",
      "16    85\n",
      "14    55\n",
      "18    23\n",
      "15     5\n",
      "13     5\n",
      "12     3\n",
      "21     3\n",
      "20     1\n",
      "Name: Education, dtype: int64\n",
      "\n",
      "MaritalStatus\n",
      "Partnered    107\n",
      "Single        73\n",
      "Name: MaritalStatus, dtype: int64\n",
      "\n",
      "Usage\n",
      "3    69\n",
      "4    52\n",
      "2    33\n",
      "5    17\n",
      "6     7\n",
      "7     2\n",
      "Name: Usage, dtype: int64\n",
      "\n",
      "Fitness\n",
      "3    97\n",
      "5    31\n",
      "2    26\n",
      "4    24\n",
      "1     2\n",
      "Name: Fitness, dtype: int64\n",
      "\n",
      "Income\n",
      "45480    14\n",
      "52302     9\n",
      "46617     8\n",
      "54576     8\n",
      "53439     8\n",
      "         ..\n",
      "65220     1\n",
      "55713     1\n",
      "68220     1\n",
      "30699     1\n",
      "95508     1\n",
      "Name: Income, Length: 62, dtype: int64\n",
      "\n",
      "Miles\n",
      "85     27\n",
      "95     12\n",
      "66     10\n",
      "75     10\n",
      "47      9\n",
      "106     9\n",
      "94      8\n",
      "113     8\n",
      "53      7\n",
      "100     7\n",
      "180     6\n",
      "200     6\n",
      "56      6\n",
      "64      6\n",
      "127     5\n",
      "160     5\n",
      "42      4\n",
      "150     4\n",
      "38      3\n",
      "74      3\n",
      "170     3\n",
      "120     3\n",
      "103     3\n",
      "132     2\n",
      "141     2\n",
      "280     1\n",
      "260     1\n",
      "300     1\n",
      "240     1\n",
      "112     1\n",
      "212     1\n",
      "80      1\n",
      "140     1\n",
      "21      1\n",
      "169     1\n",
      "188     1\n",
      "360     1\n",
      "Name: Miles, dtype: int64\n",
      "\n"
     ]
    },
    {
     "data": {
      "text/plain": [
       "Product          None\n",
       "Age              None\n",
       "Gender           None\n",
       "Education        None\n",
       "MaritalStatus    None\n",
       "Usage            None\n",
       "Fitness          None\n",
       "Income           None\n",
       "Miles            None\n",
       "dtype: object"
      ]
     },
     "execution_count": 42,
     "metadata": {},
     "output_type": "execute_result"
    }
   ],
   "source": [
    "def value_display(series):\n",
    "    d(series.name)\n",
    "    d(series.value_counts(dropna=True))\n",
    "    print()\n",
    "    \n",
    "\n",
    "(\n",
    "    aero_df.\n",
    "    apply(value_display)#avoiding pipe function so that a loop \n",
    "    # is not required in the called function #####  Comments\n",
    ")# values and their count per column of the dataset #####  Insights/Comments"
   ]
  },
  {
   "cell_type": "code",
   "execution_count": null,
   "id": "cceffbc4-1551-444f-931e-87cb5a65305a",
   "metadata": {
    "tags": []
   },
   "outputs": [
    {
     "data": {
      "text/plain": [
       "'Column-Product'"
      ]
     },
     "metadata": {},
     "output_type": "display_data"
    },
    {
     "data": {
      "text/plain": [
       "'Unique count-3'"
      ]
     },
     "metadata": {},
     "output_type": "display_data"
    },
    {
     "data": {
      "text/plain": [
       "'Values ↓↓↓'"
      ]
     },
     "metadata": {},
     "output_type": "display_data"
    },
    {
     "data": {
      "text/plain": [
       "array(['KP281', 'KP481', 'KP781'], dtype=object)"
      ]
     },
     "metadata": {},
     "output_type": "display_data"
    },
    {
     "name": "stdout",
     "output_type": "stream",
     "text": [
      "--------------------------------------------------\n",
      "\n"
     ]
    },
    {
     "data": {
      "text/plain": [
       "'Column-Age'"
      ]
     },
     "metadata": {},
     "output_type": "display_data"
    },
    {
     "data": {
      "text/plain": [
       "'Unique count-32'"
      ]
     },
     "metadata": {},
     "output_type": "display_data"
    },
    {
     "data": {
      "text/plain": [
       "'Values ↓↓↓'"
      ]
     },
     "metadata": {},
     "output_type": "display_data"
    },
    {
     "data": {
      "text/plain": [
       "array([18, 19, 20, 21, 22, 23, 24, 25, 26, 27, 28, 29, 30, 31, 32, 33, 34,\n",
       "       35, 36, 37, 38, 39, 40, 41, 43, 44, 46, 47, 50, 45, 48, 42],\n",
       "      dtype=int8)"
      ]
     },
     "metadata": {},
     "output_type": "display_data"
    },
    {
     "name": "stdout",
     "output_type": "stream",
     "text": [
      "--------------------------------------------------\n",
      "\n"
     ]
    },
    {
     "data": {
      "text/plain": [
       "'Column-Gender'"
      ]
     },
     "metadata": {},
     "output_type": "display_data"
    },
    {
     "data": {
      "text/plain": [
       "'Unique count-2'"
      ]
     },
     "metadata": {},
     "output_type": "display_data"
    },
    {
     "data": {
      "text/plain": [
       "'Values ↓↓↓'"
      ]
     },
     "metadata": {},
     "output_type": "display_data"
    },
    {
     "data": {
      "text/plain": [
       "['Male', 'Female']\n",
       "Categories (2, object): ['Female', 'Male']"
      ]
     },
     "metadata": {},
     "output_type": "display_data"
    },
    {
     "name": "stdout",
     "output_type": "stream",
     "text": [
      "--------------------------------------------------\n",
      "\n"
     ]
    },
    {
     "data": {
      "text/plain": [
       "'Column-Education'"
      ]
     },
     "metadata": {},
     "output_type": "display_data"
    },
    {
     "data": {
      "text/plain": [
       "'Unique count-8'"
      ]
     },
     "metadata": {},
     "output_type": "display_data"
    },
    {
     "data": {
      "text/plain": [
       "'Values ↓↓↓'"
      ]
     },
     "metadata": {},
     "output_type": "display_data"
    },
    {
     "data": {
      "text/plain": [
       "array([14, 15, 12, 13, 16, 18, 20, 21], dtype=int8)"
      ]
     },
     "metadata": {},
     "output_type": "display_data"
    },
    {
     "name": "stdout",
     "output_type": "stream",
     "text": [
      "--------------------------------------------------\n",
      "\n"
     ]
    },
    {
     "data": {
      "text/plain": [
       "'Column-MaritalStatus'"
      ]
     },
     "metadata": {},
     "output_type": "display_data"
    },
    {
     "data": {
      "text/plain": [
       "'Unique count-2'"
      ]
     },
     "metadata": {},
     "output_type": "display_data"
    },
    {
     "data": {
      "text/plain": [
       "'Values ↓↓↓'"
      ]
     },
     "metadata": {},
     "output_type": "display_data"
    },
    {
     "data": {
      "text/plain": [
       "['Single', 'Partnered']\n",
       "Categories (2, object): ['Partnered', 'Single']"
      ]
     },
     "metadata": {},
     "output_type": "display_data"
    },
    {
     "name": "stdout",
     "output_type": "stream",
     "text": [
      "--------------------------------------------------\n",
      "\n"
     ]
    },
    {
     "data": {
      "text/plain": [
       "'Column-Usage'"
      ]
     },
     "metadata": {},
     "output_type": "display_data"
    },
    {
     "data": {
      "text/plain": [
       "'Unique count-6'"
      ]
     },
     "metadata": {},
     "output_type": "display_data"
    },
    {
     "data": {
      "text/plain": [
       "'Values ↓↓↓'"
      ]
     },
     "metadata": {},
     "output_type": "display_data"
    },
    {
     "data": {
      "text/plain": [
       "array([3, 2, 4, 5, 6, 7], dtype=int8)"
      ]
     },
     "metadata": {},
     "output_type": "display_data"
    },
    {
     "name": "stdout",
     "output_type": "stream",
     "text": [
      "--------------------------------------------------\n",
      "\n"
     ]
    },
    {
     "data": {
      "text/plain": [
       "'Column-Fitness'"
      ]
     },
     "metadata": {},
     "output_type": "display_data"
    },
    {
     "data": {
      "text/plain": [
       "'Unique count-5'"
      ]
     },
     "metadata": {},
     "output_type": "display_data"
    },
    {
     "data": {
      "text/plain": [
       "'Values ↓↓↓'"
      ]
     },
     "metadata": {},
     "output_type": "display_data"
    },
    {
     "data": {
      "text/plain": [
       "array([4, 3, 2, 1, 5], dtype=int8)"
      ]
     },
     "metadata": {},
     "output_type": "display_data"
    },
    {
     "name": "stdout",
     "output_type": "stream",
     "text": [
      "--------------------------------------------------\n",
      "\n"
     ]
    },
    {
     "data": {
      "text/plain": [
       "'Column-Income'"
      ]
     },
     "metadata": {},
     "output_type": "display_data"
    },
    {
     "data": {
      "text/plain": [
       "'Unique count-62'"
      ]
     },
     "metadata": {},
     "output_type": "display_data"
    },
    {
     "data": {
      "text/plain": [
       "'Values ↓↓↓'"
      ]
     },
     "metadata": {},
     "output_type": "display_data"
    },
    {
     "data": {
      "text/plain": [
       "array([ 29562,  31836,  30699,  32973,  35247,  37521,  36384,  38658,\n",
       "        40932,  34110,  39795,  42069,  44343,  45480,  46617,  48891,\n",
       "        53439,  43206,  52302,  51165,  50028,  54576,  68220,  55713,\n",
       "        60261,  67083,  56850,  59124,  61398,  57987,  64809,  47754,\n",
       "        65220,  62535,  48658,  54781,  48556,  58516,  53536,  61006,\n",
       "        57271,  52291,  49801,  62251,  64741,  70966,  75946,  74701,\n",
       "        69721,  83416,  88396,  90886,  92131,  77191,  52290,  85906,\n",
       "       103336,  99601,  89641,  95866, 104581,  95508])"
      ]
     },
     "metadata": {},
     "output_type": "display_data"
    },
    {
     "name": "stdout",
     "output_type": "stream",
     "text": [
      "--------------------------------------------------\n",
      "\n"
     ]
    },
    {
     "data": {
      "text/plain": [
       "'Column-Miles'"
      ]
     },
     "metadata": {},
     "output_type": "display_data"
    },
    {
     "data": {
      "text/plain": [
       "'Unique count-37'"
      ]
     },
     "metadata": {},
     "output_type": "display_data"
    },
    {
     "data": {
      "text/plain": [
       "'Values ↓↓↓'"
      ]
     },
     "metadata": {},
     "output_type": "display_data"
    },
    {
     "data": {
      "text/plain": [
       "array([112,  75,  66,  85,  47, 141, 103,  94, 113,  38, 188,  56, 132,\n",
       "       169,  64,  53, 106,  95, 212,  42, 127,  74, 170,  21, 120, 200,\n",
       "       140, 100,  80, 160, 180, 240, 150, 300, 280, 260, 360], dtype=int16)"
      ]
     },
     "metadata": {},
     "output_type": "display_data"
    },
    {
     "name": "stdout",
     "output_type": "stream",
     "text": [
      "--------------------------------------------------\n",
      "\n"
     ]
    }
   ],
   "source": [
    "def value_display(df_):\n",
    "   for col in df_.columns:\n",
    "    d('Column-'+col,'Unique count-'+str(df_[col].nunique()),'Values ↓↓↓',df_[col].unique())\n",
    "    print('-'*50, end='\\n\\n')\n",
    "    \n",
    "(\n",
    "    aero_df.\n",
    "    pipe(value_display)\n",
    ") # number of unique values and unique values per column of the dataset #####  Insights/Comments"
   ]
  },
  {
   "cell_type": "code",
   "execution_count": 15,
   "id": "044c340a-8f7e-4e23-9fed-2b4c2cb8161e",
   "metadata": {
    "tags": []
   },
   "outputs": [
    {
     "data": {
      "text/html": [
       "<div>\n",
       "<style scoped>\n",
       "    .dataframe tbody tr th:only-of-type {\n",
       "        vertical-align: middle;\n",
       "    }\n",
       "\n",
       "    .dataframe tbody tr th {\n",
       "        vertical-align: top;\n",
       "    }\n",
       "\n",
       "    .dataframe thead th {\n",
       "        text-align: right;\n",
       "    }\n",
       "</style>\n",
       "<table border=\"1\" class=\"dataframe\">\n",
       "  <thead>\n",
       "    <tr style=\"text-align: right;\">\n",
       "      <th></th>\n",
       "      <th>Product</th>\n",
       "    </tr>\n",
       "  </thead>\n",
       "  <tbody>\n",
       "    <tr>\n",
       "      <th>count</th>\n",
       "      <td>180</td>\n",
       "    </tr>\n",
       "    <tr>\n",
       "      <th>unique</th>\n",
       "      <td>3</td>\n",
       "    </tr>\n",
       "    <tr>\n",
       "      <th>top</th>\n",
       "      <td>KP281</td>\n",
       "    </tr>\n",
       "    <tr>\n",
       "      <th>freq</th>\n",
       "      <td>80</td>\n",
       "    </tr>\n",
       "  </tbody>\n",
       "</table>\n",
       "</div>"
      ],
      "text/plain": [
       "       Product\n",
       "count      180\n",
       "unique       3\n",
       "top      KP281\n",
       "freq        80"
      ]
     },
     "execution_count": 15,
     "metadata": {},
     "output_type": "execute_result"
    }
   ],
   "source": [
    "(\n",
    "    aero_df\n",
    "    .select_dtypes(object)\n",
    "    .describe()\n",
    ")# some stats of object type #####  Insights/Comments"
   ]
  },
  {
   "cell_type": "code",
   "execution_count": 16,
   "id": "d3f684a6-56f4-469e-94f6-6bef943cc0d8",
   "metadata": {
    "tags": []
   },
   "outputs": [
    {
     "data": {
      "text/html": [
       "<div>\n",
       "<style scoped>\n",
       "    .dataframe tbody tr th:only-of-type {\n",
       "        vertical-align: middle;\n",
       "    }\n",
       "\n",
       "    .dataframe tbody tr th {\n",
       "        vertical-align: top;\n",
       "    }\n",
       "\n",
       "    .dataframe thead th {\n",
       "        text-align: right;\n",
       "    }\n",
       "</style>\n",
       "<table border=\"1\" class=\"dataframe\">\n",
       "  <thead>\n",
       "    <tr style=\"text-align: right;\">\n",
       "      <th></th>\n",
       "      <th>Gender</th>\n",
       "      <th>MaritalStatus</th>\n",
       "    </tr>\n",
       "  </thead>\n",
       "  <tbody>\n",
       "    <tr>\n",
       "      <th>count</th>\n",
       "      <td>180</td>\n",
       "      <td>180</td>\n",
       "    </tr>\n",
       "    <tr>\n",
       "      <th>unique</th>\n",
       "      <td>2</td>\n",
       "      <td>2</td>\n",
       "    </tr>\n",
       "    <tr>\n",
       "      <th>top</th>\n",
       "      <td>Male</td>\n",
       "      <td>Partnered</td>\n",
       "    </tr>\n",
       "    <tr>\n",
       "      <th>freq</th>\n",
       "      <td>104</td>\n",
       "      <td>107</td>\n",
       "    </tr>\n",
       "  </tbody>\n",
       "</table>\n",
       "</div>"
      ],
      "text/plain": [
       "       Gender MaritalStatus\n",
       "count     180           180\n",
       "unique      2             2\n",
       "top      Male     Partnered\n",
       "freq      104           107"
      ]
     },
     "execution_count": 16,
     "metadata": {},
     "output_type": "execute_result"
    }
   ],
   "source": [
    "(\n",
    "    aero_df\n",
    "    .select_dtypes('category')\n",
    "    .describe()\n",
    ")# some stats of category types #####  Insights/Comments"
   ]
  },
  {
   "cell_type": "markdown",
   "id": "f7bfdc23-3e9e-4911-80c2-e5d366d3950e",
   "metadata": {
    "tags": []
   },
   "source": [
    "#####  Insights/Comments\n",
    "- Above result shows us that males tend to buy more and also people who are partnered(male/female)"
   ]
  },
  {
   "cell_type": "code",
   "execution_count": null,
   "id": "fb028d82-2cd6-4b98-9a57-ad068e9155ba",
   "metadata": {
    "tags": []
   },
   "outputs": [
    {
     "data": {
      "text/html": [
       "<div>\n",
       "<style scoped>\n",
       "    .dataframe tbody tr th:only-of-type {\n",
       "        vertical-align: middle;\n",
       "    }\n",
       "\n",
       "    .dataframe tbody tr th {\n",
       "        vertical-align: top;\n",
       "    }\n",
       "\n",
       "    .dataframe thead th {\n",
       "        text-align: right;\n",
       "    }\n",
       "</style>\n",
       "<table border=\"1\" class=\"dataframe\">\n",
       "  <thead>\n",
       "    <tr style=\"text-align: right;\">\n",
       "      <th></th>\n",
       "      <th>Age</th>\n",
       "      <th>Education</th>\n",
       "      <th>Usage</th>\n",
       "      <th>Fitness</th>\n",
       "      <th>Income</th>\n",
       "      <th>Miles</th>\n",
       "    </tr>\n",
       "  </thead>\n",
       "  <tbody>\n",
       "    <tr>\n",
       "      <th>count</th>\n",
       "      <td>180.000000</td>\n",
       "      <td>180.000000</td>\n",
       "      <td>180.000000</td>\n",
       "      <td>180.000000</td>\n",
       "      <td>180.000000</td>\n",
       "      <td>180.000000</td>\n",
       "    </tr>\n",
       "    <tr>\n",
       "      <th>mean</th>\n",
       "      <td>28.788889</td>\n",
       "      <td>15.572222</td>\n",
       "      <td>3.455556</td>\n",
       "      <td>3.311111</td>\n",
       "      <td>53719.577778</td>\n",
       "      <td>103.194444</td>\n",
       "    </tr>\n",
       "    <tr>\n",
       "      <th>std</th>\n",
       "      <td>6.943498</td>\n",
       "      <td>1.617055</td>\n",
       "      <td>1.084797</td>\n",
       "      <td>0.958869</td>\n",
       "      <td>16506.684226</td>\n",
       "      <td>51.863605</td>\n",
       "    </tr>\n",
       "    <tr>\n",
       "      <th>min</th>\n",
       "      <td>18.000000</td>\n",
       "      <td>12.000000</td>\n",
       "      <td>2.000000</td>\n",
       "      <td>1.000000</td>\n",
       "      <td>29562.000000</td>\n",
       "      <td>21.000000</td>\n",
       "    </tr>\n",
       "    <tr>\n",
       "      <th>25%</th>\n",
       "      <td>24.000000</td>\n",
       "      <td>14.000000</td>\n",
       "      <td>3.000000</td>\n",
       "      <td>3.000000</td>\n",
       "      <td>44058.750000</td>\n",
       "      <td>66.000000</td>\n",
       "    </tr>\n",
       "    <tr>\n",
       "      <th>50%</th>\n",
       "      <td>26.000000</td>\n",
       "      <td>16.000000</td>\n",
       "      <td>3.000000</td>\n",
       "      <td>3.000000</td>\n",
       "      <td>50596.500000</td>\n",
       "      <td>94.000000</td>\n",
       "    </tr>\n",
       "    <tr>\n",
       "      <th>75%</th>\n",
       "      <td>33.000000</td>\n",
       "      <td>16.000000</td>\n",
       "      <td>4.000000</td>\n",
       "      <td>4.000000</td>\n",
       "      <td>58668.000000</td>\n",
       "      <td>114.750000</td>\n",
       "    </tr>\n",
       "    <tr>\n",
       "      <th>max</th>\n",
       "      <td>50.000000</td>\n",
       "      <td>21.000000</td>\n",
       "      <td>7.000000</td>\n",
       "      <td>5.000000</td>\n",
       "      <td>104581.000000</td>\n",
       "      <td>360.000000</td>\n",
       "    </tr>\n",
       "  </tbody>\n",
       "</table>\n",
       "</div>"
      ],
      "text/plain": [
       "              Age   Education       Usage     Fitness         Income  \\\n",
       "count  180.000000  180.000000  180.000000  180.000000     180.000000   \n",
       "mean    28.788889   15.572222    3.455556    3.311111   53719.577778   \n",
       "std      6.943498    1.617055    1.084797    0.958869   16506.684226   \n",
       "min     18.000000   12.000000    2.000000    1.000000   29562.000000   \n",
       "25%     24.000000   14.000000    3.000000    3.000000   44058.750000   \n",
       "50%     26.000000   16.000000    3.000000    3.000000   50596.500000   \n",
       "75%     33.000000   16.000000    4.000000    4.000000   58668.000000   \n",
       "max     50.000000   21.000000    7.000000    5.000000  104581.000000   \n",
       "\n",
       "            Miles  \n",
       "count  180.000000  \n",
       "mean   103.194444  \n",
       "std     51.863605  \n",
       "min     21.000000  \n",
       "25%     66.000000  \n",
       "50%     94.000000  \n",
       "75%    114.750000  \n",
       "max    360.000000  "
      ]
     },
     "execution_count": 46,
     "metadata": {},
     "output_type": "execute_result"
    }
   ],
   "source": [
    "(\n",
    "    aero_df\n",
    "    .select_dtypes(['integer','number'])\n",
    "    .describe()\n",
    ")# stats regarding the numerical values #####  Insights/Comments"
   ]
  },
  {
   "cell_type": "markdown",
   "id": "92146dfa-2b84-443f-8f31-cbe40a0d2f47",
   "metadata": {
    "tags": []
   },
   "source": [
    "#####  Insights/Comments\n",
    "- Most of these columns have outliers present as per the median and mean difference\n",
    "- Usage has 7 as max and education 21 and miles has 360 as max these are unusual for a normal user/customer. \n",
    "- Min Fitness being 1 is not necesarrily an outlier but it maybe one for this dataset.."
   ]
  },
  {
   "cell_type": "code",
   "execution_count": null,
   "id": "16d4789d-12a2-4a3a-b609-8ef8a7f86ff1",
   "metadata": {
    "tags": []
   },
   "outputs": [
    {
     "data": {
      "text/plain": [
       "'Product'"
      ]
     },
     "metadata": {},
     "output_type": "display_data"
    },
    {
     "name": "stdout",
     "output_type": "stream",
     "text": [
      " \n",
      "\n"
     ]
    },
    {
     "data": {
      "text/html": [
       "<div>\n",
       "<style scoped>\n",
       "    .dataframe tbody tr th:only-of-type {\n",
       "        vertical-align: middle;\n",
       "    }\n",
       "\n",
       "    .dataframe tbody tr th {\n",
       "        vertical-align: top;\n",
       "    }\n",
       "\n",
       "    .dataframe thead th {\n",
       "        text-align: right;\n",
       "    }\n",
       "</style>\n",
       "<table border=\"1\" class=\"dataframe\">\n",
       "  <thead>\n",
       "    <tr style=\"text-align: right;\">\n",
       "      <th></th>\n",
       "      <th>Product</th>\n",
       "      <th>Age</th>\n",
       "      <th>Gender</th>\n",
       "      <th>Education</th>\n",
       "      <th>MaritalStatus</th>\n",
       "      <th>Usage</th>\n",
       "      <th>Fitness</th>\n",
       "      <th>Income</th>\n",
       "      <th>Miles</th>\n",
       "    </tr>\n",
       "  </thead>\n",
       "  <tbody>\n",
       "  </tbody>\n",
       "</table>\n",
       "</div>"
      ],
      "text/plain": [
       "Empty DataFrame\n",
       "Columns: [Product, Age, Gender, Education, MaritalStatus, Usage, Fitness, Income, Miles]\n",
       "Index: []"
      ]
     },
     "metadata": {},
     "output_type": "display_data"
    },
    {
     "name": "stdout",
     "output_type": "stream",
     "text": [
      "______________________________________________________________________________________________________________________________________________________\n"
     ]
    },
    {
     "data": {
      "text/plain": [
       "'Age'"
      ]
     },
     "metadata": {},
     "output_type": "display_data"
    },
    {
     "name": "stdout",
     "output_type": "stream",
     "text": [
      " \n",
      "\n"
     ]
    },
    {
     "data": {
      "text/html": [
       "<div>\n",
       "<style scoped>\n",
       "    .dataframe tbody tr th:only-of-type {\n",
       "        vertical-align: middle;\n",
       "    }\n",
       "\n",
       "    .dataframe tbody tr th {\n",
       "        vertical-align: top;\n",
       "    }\n",
       "\n",
       "    .dataframe thead th {\n",
       "        text-align: right;\n",
       "    }\n",
       "</style>\n",
       "<table border=\"1\" class=\"dataframe\">\n",
       "  <thead>\n",
       "    <tr style=\"text-align: right;\">\n",
       "      <th></th>\n",
       "      <th>Product</th>\n",
       "      <th>Age</th>\n",
       "      <th>Gender</th>\n",
       "      <th>Education</th>\n",
       "      <th>MaritalStatus</th>\n",
       "      <th>Usage</th>\n",
       "      <th>Fitness</th>\n",
       "      <th>Income</th>\n",
       "      <th>Miles</th>\n",
       "    </tr>\n",
       "  </thead>\n",
       "  <tbody>\n",
       "  </tbody>\n",
       "</table>\n",
       "</div>"
      ],
      "text/plain": [
       "Empty DataFrame\n",
       "Columns: [Product, Age, Gender, Education, MaritalStatus, Usage, Fitness, Income, Miles]\n",
       "Index: []"
      ]
     },
     "metadata": {},
     "output_type": "display_data"
    },
    {
     "name": "stdout",
     "output_type": "stream",
     "text": [
      "______________________________________________________________________________________________________________________________________________________\n"
     ]
    },
    {
     "data": {
      "text/plain": [
       "'Gender'"
      ]
     },
     "metadata": {},
     "output_type": "display_data"
    },
    {
     "name": "stdout",
     "output_type": "stream",
     "text": [
      " \n",
      "\n"
     ]
    },
    {
     "data": {
      "text/html": [
       "<div>\n",
       "<style scoped>\n",
       "    .dataframe tbody tr th:only-of-type {\n",
       "        vertical-align: middle;\n",
       "    }\n",
       "\n",
       "    .dataframe tbody tr th {\n",
       "        vertical-align: top;\n",
       "    }\n",
       "\n",
       "    .dataframe thead th {\n",
       "        text-align: right;\n",
       "    }\n",
       "</style>\n",
       "<table border=\"1\" class=\"dataframe\">\n",
       "  <thead>\n",
       "    <tr style=\"text-align: right;\">\n",
       "      <th></th>\n",
       "      <th>Product</th>\n",
       "      <th>Age</th>\n",
       "      <th>Gender</th>\n",
       "      <th>Education</th>\n",
       "      <th>MaritalStatus</th>\n",
       "      <th>Usage</th>\n",
       "      <th>Fitness</th>\n",
       "      <th>Income</th>\n",
       "      <th>Miles</th>\n",
       "    </tr>\n",
       "  </thead>\n",
       "  <tbody>\n",
       "  </tbody>\n",
       "</table>\n",
       "</div>"
      ],
      "text/plain": [
       "Empty DataFrame\n",
       "Columns: [Product, Age, Gender, Education, MaritalStatus, Usage, Fitness, Income, Miles]\n",
       "Index: []"
      ]
     },
     "metadata": {},
     "output_type": "display_data"
    },
    {
     "name": "stdout",
     "output_type": "stream",
     "text": [
      "______________________________________________________________________________________________________________________________________________________\n"
     ]
    },
    {
     "data": {
      "text/plain": [
       "'Education'"
      ]
     },
     "metadata": {},
     "output_type": "display_data"
    },
    {
     "name": "stdout",
     "output_type": "stream",
     "text": [
      " \n",
      "\n"
     ]
    },
    {
     "data": {
      "text/html": [
       "<div>\n",
       "<style scoped>\n",
       "    .dataframe tbody tr th:only-of-type {\n",
       "        vertical-align: middle;\n",
       "    }\n",
       "\n",
       "    .dataframe tbody tr th {\n",
       "        vertical-align: top;\n",
       "    }\n",
       "\n",
       "    .dataframe thead th {\n",
       "        text-align: right;\n",
       "    }\n",
       "</style>\n",
       "<table border=\"1\" class=\"dataframe\">\n",
       "  <thead>\n",
       "    <tr style=\"text-align: right;\">\n",
       "      <th></th>\n",
       "      <th>Product</th>\n",
       "      <th>Age</th>\n",
       "      <th>Gender</th>\n",
       "      <th>Education</th>\n",
       "      <th>MaritalStatus</th>\n",
       "      <th>Usage</th>\n",
       "      <th>Fitness</th>\n",
       "      <th>Income</th>\n",
       "      <th>Miles</th>\n",
       "    </tr>\n",
       "  </thead>\n",
       "  <tbody>\n",
       "  </tbody>\n",
       "</table>\n",
       "</div>"
      ],
      "text/plain": [
       "Empty DataFrame\n",
       "Columns: [Product, Age, Gender, Education, MaritalStatus, Usage, Fitness, Income, Miles]\n",
       "Index: []"
      ]
     },
     "metadata": {},
     "output_type": "display_data"
    },
    {
     "name": "stdout",
     "output_type": "stream",
     "text": [
      "______________________________________________________________________________________________________________________________________________________\n"
     ]
    },
    {
     "data": {
      "text/plain": [
       "'MaritalStatus'"
      ]
     },
     "metadata": {},
     "output_type": "display_data"
    },
    {
     "name": "stdout",
     "output_type": "stream",
     "text": [
      " \n",
      "\n"
     ]
    },
    {
     "data": {
      "text/html": [
       "<div>\n",
       "<style scoped>\n",
       "    .dataframe tbody tr th:only-of-type {\n",
       "        vertical-align: middle;\n",
       "    }\n",
       "\n",
       "    .dataframe tbody tr th {\n",
       "        vertical-align: top;\n",
       "    }\n",
       "\n",
       "    .dataframe thead th {\n",
       "        text-align: right;\n",
       "    }\n",
       "</style>\n",
       "<table border=\"1\" class=\"dataframe\">\n",
       "  <thead>\n",
       "    <tr style=\"text-align: right;\">\n",
       "      <th></th>\n",
       "      <th>Product</th>\n",
       "      <th>Age</th>\n",
       "      <th>Gender</th>\n",
       "      <th>Education</th>\n",
       "      <th>MaritalStatus</th>\n",
       "      <th>Usage</th>\n",
       "      <th>Fitness</th>\n",
       "      <th>Income</th>\n",
       "      <th>Miles</th>\n",
       "    </tr>\n",
       "  </thead>\n",
       "  <tbody>\n",
       "  </tbody>\n",
       "</table>\n",
       "</div>"
      ],
      "text/plain": [
       "Empty DataFrame\n",
       "Columns: [Product, Age, Gender, Education, MaritalStatus, Usage, Fitness, Income, Miles]\n",
       "Index: []"
      ]
     },
     "metadata": {},
     "output_type": "display_data"
    },
    {
     "name": "stdout",
     "output_type": "stream",
     "text": [
      "______________________________________________________________________________________________________________________________________________________\n"
     ]
    },
    {
     "data": {
      "text/plain": [
       "'Usage'"
      ]
     },
     "metadata": {},
     "output_type": "display_data"
    },
    {
     "name": "stdout",
     "output_type": "stream",
     "text": [
      " \n",
      "\n"
     ]
    },
    {
     "data": {
      "text/html": [
       "<div>\n",
       "<style scoped>\n",
       "    .dataframe tbody tr th:only-of-type {\n",
       "        vertical-align: middle;\n",
       "    }\n",
       "\n",
       "    .dataframe tbody tr th {\n",
       "        vertical-align: top;\n",
       "    }\n",
       "\n",
       "    .dataframe thead th {\n",
       "        text-align: right;\n",
       "    }\n",
       "</style>\n",
       "<table border=\"1\" class=\"dataframe\">\n",
       "  <thead>\n",
       "    <tr style=\"text-align: right;\">\n",
       "      <th></th>\n",
       "      <th>Product</th>\n",
       "      <th>Age</th>\n",
       "      <th>Gender</th>\n",
       "      <th>Education</th>\n",
       "      <th>MaritalStatus</th>\n",
       "      <th>Usage</th>\n",
       "      <th>Fitness</th>\n",
       "      <th>Income</th>\n",
       "      <th>Miles</th>\n",
       "    </tr>\n",
       "  </thead>\n",
       "  <tbody>\n",
       "  </tbody>\n",
       "</table>\n",
       "</div>"
      ],
      "text/plain": [
       "Empty DataFrame\n",
       "Columns: [Product, Age, Gender, Education, MaritalStatus, Usage, Fitness, Income, Miles]\n",
       "Index: []"
      ]
     },
     "metadata": {},
     "output_type": "display_data"
    },
    {
     "name": "stdout",
     "output_type": "stream",
     "text": [
      "______________________________________________________________________________________________________________________________________________________\n"
     ]
    },
    {
     "data": {
      "text/plain": [
       "'Fitness'"
      ]
     },
     "metadata": {},
     "output_type": "display_data"
    },
    {
     "name": "stdout",
     "output_type": "stream",
     "text": [
      " \n",
      "\n"
     ]
    },
    {
     "data": {
      "text/html": [
       "<div>\n",
       "<style scoped>\n",
       "    .dataframe tbody tr th:only-of-type {\n",
       "        vertical-align: middle;\n",
       "    }\n",
       "\n",
       "    .dataframe tbody tr th {\n",
       "        vertical-align: top;\n",
       "    }\n",
       "\n",
       "    .dataframe thead th {\n",
       "        text-align: right;\n",
       "    }\n",
       "</style>\n",
       "<table border=\"1\" class=\"dataframe\">\n",
       "  <thead>\n",
       "    <tr style=\"text-align: right;\">\n",
       "      <th></th>\n",
       "      <th>Product</th>\n",
       "      <th>Age</th>\n",
       "      <th>Gender</th>\n",
       "      <th>Education</th>\n",
       "      <th>MaritalStatus</th>\n",
       "      <th>Usage</th>\n",
       "      <th>Fitness</th>\n",
       "      <th>Income</th>\n",
       "      <th>Miles</th>\n",
       "    </tr>\n",
       "  </thead>\n",
       "  <tbody>\n",
       "  </tbody>\n",
       "</table>\n",
       "</div>"
      ],
      "text/plain": [
       "Empty DataFrame\n",
       "Columns: [Product, Age, Gender, Education, MaritalStatus, Usage, Fitness, Income, Miles]\n",
       "Index: []"
      ]
     },
     "metadata": {},
     "output_type": "display_data"
    },
    {
     "name": "stdout",
     "output_type": "stream",
     "text": [
      "______________________________________________________________________________________________________________________________________________________\n"
     ]
    },
    {
     "data": {
      "text/plain": [
       "'Income'"
      ]
     },
     "metadata": {},
     "output_type": "display_data"
    },
    {
     "name": "stdout",
     "output_type": "stream",
     "text": [
      " \n",
      "\n"
     ]
    },
    {
     "data": {
      "text/html": [
       "<div>\n",
       "<style scoped>\n",
       "    .dataframe tbody tr th:only-of-type {\n",
       "        vertical-align: middle;\n",
       "    }\n",
       "\n",
       "    .dataframe tbody tr th {\n",
       "        vertical-align: top;\n",
       "    }\n",
       "\n",
       "    .dataframe thead th {\n",
       "        text-align: right;\n",
       "    }\n",
       "</style>\n",
       "<table border=\"1\" class=\"dataframe\">\n",
       "  <thead>\n",
       "    <tr style=\"text-align: right;\">\n",
       "      <th></th>\n",
       "      <th>Product</th>\n",
       "      <th>Age</th>\n",
       "      <th>Gender</th>\n",
       "      <th>Education</th>\n",
       "      <th>MaritalStatus</th>\n",
       "      <th>Usage</th>\n",
       "      <th>Fitness</th>\n",
       "      <th>Income</th>\n",
       "      <th>Miles</th>\n",
       "    </tr>\n",
       "  </thead>\n",
       "  <tbody>\n",
       "  </tbody>\n",
       "</table>\n",
       "</div>"
      ],
      "text/plain": [
       "Empty DataFrame\n",
       "Columns: [Product, Age, Gender, Education, MaritalStatus, Usage, Fitness, Income, Miles]\n",
       "Index: []"
      ]
     },
     "metadata": {},
     "output_type": "display_data"
    },
    {
     "name": "stdout",
     "output_type": "stream",
     "text": [
      "______________________________________________________________________________________________________________________________________________________\n"
     ]
    },
    {
     "data": {
      "text/plain": [
       "'Miles'"
      ]
     },
     "metadata": {},
     "output_type": "display_data"
    },
    {
     "name": "stdout",
     "output_type": "stream",
     "text": [
      " \n",
      "\n"
     ]
    },
    {
     "data": {
      "text/html": [
       "<div>\n",
       "<style scoped>\n",
       "    .dataframe tbody tr th:only-of-type {\n",
       "        vertical-align: middle;\n",
       "    }\n",
       "\n",
       "    .dataframe tbody tr th {\n",
       "        vertical-align: top;\n",
       "    }\n",
       "\n",
       "    .dataframe thead th {\n",
       "        text-align: right;\n",
       "    }\n",
       "</style>\n",
       "<table border=\"1\" class=\"dataframe\">\n",
       "  <thead>\n",
       "    <tr style=\"text-align: right;\">\n",
       "      <th></th>\n",
       "      <th>Product</th>\n",
       "      <th>Age</th>\n",
       "      <th>Gender</th>\n",
       "      <th>Education</th>\n",
       "      <th>MaritalStatus</th>\n",
       "      <th>Usage</th>\n",
       "      <th>Fitness</th>\n",
       "      <th>Income</th>\n",
       "      <th>Miles</th>\n",
       "    </tr>\n",
       "  </thead>\n",
       "  <tbody>\n",
       "  </tbody>\n",
       "</table>\n",
       "</div>"
      ],
      "text/plain": [
       "Empty DataFrame\n",
       "Columns: [Product, Age, Gender, Education, MaritalStatus, Usage, Fitness, Income, Miles]\n",
       "Index: []"
      ]
     },
     "metadata": {},
     "output_type": "display_data"
    },
    {
     "name": "stdout",
     "output_type": "stream",
     "text": [
      "______________________________________________________________________________________________________________________________________________________\n"
     ]
    },
    {
     "data": {
      "text/plain": [
       "'exit'"
      ]
     },
     "metadata": {},
     "output_type": "display_data"
    },
    {
     "name": "stdout",
     "output_type": "stream",
     "text": [
      "\n"
     ]
    },
    {
     "data": {
      "text/plain": [
       "Product          False\n",
       "Age              False\n",
       "Gender           False\n",
       "Education        False\n",
       "MaritalStatus    False\n",
       "Usage            False\n",
       "Fitness          False\n",
       "Income           False\n",
       "Miles            False\n",
       "dtype: bool"
      ]
     },
     "metadata": {},
     "output_type": "display_data"
    },
    {
     "name": "stdout",
     "output_type": "stream",
     "text": [
      "\n"
     ]
    },
    {
     "data": {
      "text/plain": [
       "Product          0.0\n",
       "Age              0.0\n",
       "Gender           0.0\n",
       "Education        0.0\n",
       "MaritalStatus    0.0\n",
       "Usage            0.0\n",
       "Fitness          0.0\n",
       "Income           0.0\n",
       "Miles            0.0\n",
       "dtype: float64"
      ]
     },
     "metadata": {},
     "output_type": "display_data"
    }
   ],
   "source": [
    "def display_null_rows(df_):\n",
    "    for col in df_.columns:\n",
    "        d(col)\n",
    "        print(' \\n')\n",
    "        d(df_.query(col+'.isna()'))\n",
    "        print('__'*75)\n",
    "    return 'exit'\n",
    "        \n",
    "d(\n",
    "    aero_df\n",
    "    .pipe(display_null_rows) # None of the columns have null data #####  Insights/Comments\n",
    " )\n",
    "print()\n",
    "d(\n",
    "    aero_df\n",
    "    .isna()\n",
    "    .any()\n",
    " )\n",
    "print()\n",
    "d(\n",
    "    aero_df\n",
    "    .isna()\n",
    "    .sum()/len(aero_df)\n",
    " )"
   ]
  },
  {
   "cell_type": "code",
   "execution_count": 19,
   "id": "28549f54-4f56-436b-aa2c-5120a3469736",
   "metadata": {
    "tags": []
   },
   "outputs": [
    {
     "data": {
      "text/plain": [
       "Index(['Age', 'Education', 'Usage', 'Fitness', 'Income', 'Miles'], dtype='object')"
      ]
     },
     "metadata": {},
     "output_type": "display_data"
    },
    {
     "name": "stdout",
     "output_type": "stream",
     "text": [
      "\n"
     ]
    },
    {
     "data": {
      "image/png": "[encoded data removed]",
      "text/plain": [
       "<Figure size 2160x720 with 6 Axes>"
      ]
     },
     "metadata": {
      "needs_background": "light"
     },
     "output_type": "display_data"
    },
    {
     "name": "stdout",
     "output_type": "stream",
     "text": [
      "\n",
      "Ageiqr---9.0\n",
      "Agell---10.5\n",
      "Ageul---46.5\n",
      "Educationiqr---2.0\n",
      "Educationll---11.0\n",
      "Educationul---19.0\n",
      "Usageiqr---1.0\n",
      "Usagell---1.5\n",
      "Usageul---5.5\n",
      "Fitnessiqr---1.0\n",
      "Fitnessll---1.5\n",
      "Fitnessul---5.5\n",
      "Incomeiqr---14609.25\n",
      "Incomell---22144.875\n",
      "Incomeul---80581.875\n",
      "Milesiqr---48.75\n",
      "Milesll----7.125\n",
      "Milesul---187.875\n"
     ]
    }
   ],
   "source": [
    "d(\n",
    "    aero_df\n",
    "    .select_dtypes(['int16','int32','int8'])\n",
    "    .columns\n",
    " )\n",
    "\n",
    "print()\n",
    "\n",
    "figure, axes = plt.subplots(nrows=2, ncols=3, figsize=[30,10])\n",
    "\n",
    "sns.boxplot(data=aero_df, x='Age' , ax=axes[0][0], medianprops={\"color\": \"green\"}, notch=True)\n",
    "sns.boxplot(data=aero_df, x='Education' , ax=axes[0][1], medianprops={\"color\": \"blue\"})\n",
    "sns.boxplot(data=aero_df, x='Usage' , ax=axes[0][2], medianprops={\"color\": \"blue\"})\n",
    "sns.boxplot(data=aero_df, x='Fitness' , ax=axes[1][0], medianprops={\"color\": \"blue\"})\n",
    "sns.boxplot(data=aero_df, x='Income' , ax=axes[1][1], medianprops={\"color\": \"green\"}, notch=True)\n",
    "sns.boxplot(data=aero_df, x='Miles' , ax=axes[1][2], medianprops={\"color\": \"green\"}, notch=True)\n",
    "\n",
    "plt.show()\n",
    "\n",
    "\n",
    "cols = ['Age', 'Education', 'Usage', 'Fitness', 'Income', 'Miles']\n",
    "gbl = globals()\n",
    "\n",
    "\n",
    "def print_boxplot_details(series):\n",
    "    \n",
    "    quantile_1 = series.quantile(0.25)\n",
    "    quantile_3 = series.quantile(0.75)\n",
    "    Inter_QR = quantile_3 - quantile_1\n",
    "    lower_limit = quantile_1 - (1.5 * Inter_QR) # Generally 1.5 factor is the limit for considering outliers...#####  Insights/Comments\n",
    "    upper_limit = quantile_3 + (1.5 * Inter_QR)\n",
    "    globals()[str(series.name)+'iqr'] = Inter_QR\n",
    "    globals()[str(series.name)+'ll'] = lower_limit\n",
    "    globals()[str(series.name)+'ul'] = upper_limit\n",
    "    return Inter_QR\n",
    "\n",
    "(\n",
    "    aero_df\n",
    "    .filter(items = cols)\n",
    "    .apply(print_boxplot_details)\n",
    "\n",
    ")\n",
    "\n",
    "cols = ['Ageiqr','Agell','Ageul',\n",
    "        'Educationiqr','Educationll','Educationul',\n",
    "        'Usageiqr','Usagell','Usageul', \n",
    "        'Fitnessiqr','Fitnessll','Fitnessul',\n",
    "        'Incomeiqr', 'Incomell', 'Incomeul',\n",
    "        'Milesiqr','Milesll','Milesul']\n",
    "\n",
    "print()\n",
    "\n",
    "for c in cols:\n",
    "    print(c,gbl[c], sep='---', end='\\n')#\n",
    "# Below plot was made to see the outliers in the numerical values of the dataset, \n",
    "# Its clear from the plots that all of them have outliers, Lets work on treating them... #####  Insights/Comments\n",
    "# printing interquartile range , lower and upper limits for each column #####  Insights/Comments"
   ]
  },
  {
   "cell_type": "markdown",
   "id": "fd913046-2c1a-419e-bb2f-865232e7f884",
   "metadata": {
    "tags": []
   },
   "source": [
    "##### Treating outliers using masking and drop as per current knowledge"
   ]
  },
  {
   "cell_type": "code",
   "execution_count": 20,
   "id": "e9406ace-ccb7-4e1c-89d1-e59c021c82c6",
   "metadata": {
    "tags": []
   },
   "outputs": [
    {
     "data": {
      "image/png": "[encoded data removed]",
      "text/plain": [
       "<Figure size 2160x720 with 6 Axes>"
      ]
     },
     "metadata": {
      "needs_background": "light"
     },
     "output_type": "display_data"
    }
   ],
   "source": [
    "# Processing based on current knowledge, \n",
    "# this method may not be suitable for mutipe columns and may be slow and not the right method\n",
    "# Plus its not completely removing the outliers, \n",
    "# this below method will be suitable for a single series from a dataframe rather...\n",
    "##### Comments\n",
    "def clean_fliers(df):\n",
    "    gbl_n = globals()\n",
    "    dfn = pd.DataFrame()\n",
    "    cols = [['Age','Agell','Ageul'],\n",
    "             ['Education' ,'Educationll','Educationul'],\n",
    "             ['Usage', 'Usagell','Usageul'], \n",
    "             ['Fitness','Fitnessll','Fitnessul'],\n",
    "             ['Income','Incomell', 'Incomeul'],\n",
    "             ['Miles','Milesll','Milesul']]\n",
    "    \n",
    "    for c in cols:\n",
    "        coln = c[0]\n",
    "        low = (df[c[0]]<gbl_n[c[1]])\n",
    "        high= (df[c[0]]>gbl_n[c[2]])    \n",
    "        dfn[coln]= df[c[0]].loc[~(low | high)]\n",
    "        # print(c[0],c[1],c[2])\n",
    "        \n",
    "    return dfn      \n",
    "\n",
    "df_new = (\n",
    "            aero_df\n",
    "            .pipe(clean_fliers)\n",
    "            .drop_duplicates()\n",
    "         )\n",
    "\n",
    "\n",
    "figure, axes = plt.subplots(nrows=2, ncols=3, figsize=[30,10])\n",
    "\n",
    "sns.boxplot(data=df_new, x='Age' , ax=axes[0][0], medianprops={\"color\": \"green\"}, notch=True)\n",
    "sns.boxplot(data=df_new, x='Education' , ax=axes[0][1], medianprops={\"color\": \"blue\"})\n",
    "sns.boxplot(data=df_new, x='Usage' , ax=axes[0][2], medianprops={\"color\": \"blue\"})\n",
    "sns.boxplot(data=df_new, x='Fitness' , ax=axes[1][0], medianprops={\"color\": \"blue\"})\n",
    "sns.boxplot(data=df_new, x='Income' , ax=axes[1][1], medianprops={\"color\": \"green\"}, notch=True)\n",
    "sns.boxplot(data=df_new, x='Miles' , ax=axes[1][2], medianprops={\"color\": \"green\"}, notch=True)\n",
    "#whis is 1.5 for all the box plots by default yet we see few outliers again...#####  Insights/Comments\n",
    "plt.show()\n",
    "#Not going to use the cleaned data for analysis \n",
    "#as there is some knowledge gap on how to clean outliers...#####  Comments"
   ]
  },
  {
   "cell_type": "markdown",
   "id": "a281a648-bb17-4cbc-bc5e-404e4e275cdb",
   "metadata": {
    "tags": []
   },
   "source": [
    "##  Visual Analysis"
   ]
  },
  {
   "cell_type": "code",
   "execution_count": 21,
   "id": "9440ff4f-631b-4c99-9803-2c709c632143",
   "metadata": {
    "tags": []
   },
   "outputs": [
    {
     "data": {
      "text/html": [
       "<style type=\"text/css\">\n",
       "#T_b7b21_row0_col0, #T_b7b21_row1_col1, #T_b7b21_row2_col2, #T_b7b21_row3_col3, #T_b7b21_row4_col4, #T_b7b21_row5_col5 {\n",
       "  background-color: #006837;\n",
       "  color: #f1f1f1;\n",
       "}\n",
       "#T_b7b21_row0_col1, #T_b7b21_row0_col2, #T_b7b21_row0_col3, #T_b7b21_row0_col4, #T_b7b21_row0_col5, #T_b7b21_row2_col0 {\n",
       "  background-color: #a50026;\n",
       "  color: #f1f1f1;\n",
       "}\n",
       "#T_b7b21_row1_col0 {\n",
       "  background-color: #fa9857;\n",
       "  color: #000000;\n",
       "}\n",
       "#T_b7b21_row1_col2 {\n",
       "  background-color: #fed884;\n",
       "  color: #000000;\n",
       "}\n",
       "#T_b7b21_row1_col3 {\n",
       "  background-color: #fed27f;\n",
       "  color: #000000;\n",
       "}\n",
       "#T_b7b21_row1_col4 {\n",
       "  background-color: #f7814c;\n",
       "  color: #f1f1f1;\n",
       "}\n",
       "#T_b7b21_row1_col5 {\n",
       "  background-color: #fba05b;\n",
       "  color: #000000;\n",
       "}\n",
       "#T_b7b21_row2_col1 {\n",
       "  background-color: #e75337;\n",
       "  color: #f1f1f1;\n",
       "}\n",
       "#T_b7b21_row2_col3 {\n",
       "  background-color: #c1e57b;\n",
       "  color: #000000;\n",
       "}\n",
       "#T_b7b21_row2_col4 {\n",
       "  background-color: #ab0626;\n",
       "  color: #f1f1f1;\n",
       "}\n",
       "#T_b7b21_row2_col5 {\n",
       "  background-color: #87cb67;\n",
       "  color: #000000;\n",
       "}\n",
       "#T_b7b21_row3_col0, #T_b7b21_row3_col4 {\n",
       "  background-color: #bb1526;\n",
       "  color: #f1f1f1;\n",
       "}\n",
       "#T_b7b21_row3_col1 {\n",
       "  background-color: #ee613e;\n",
       "  color: #f1f1f1;\n",
       "}\n",
       "#T_b7b21_row3_col2 {\n",
       "  background-color: #b9e176;\n",
       "  color: #000000;\n",
       "}\n",
       "#T_b7b21_row3_col5 {\n",
       "  background-color: #73c264;\n",
       "  color: #000000;\n",
       "}\n",
       "#T_b7b21_row4_col0, #T_b7b21_row4_col3 {\n",
       "  background-color: #fdfebc;\n",
       "  color: #000000;\n",
       "}\n",
       "#T_b7b21_row4_col1 {\n",
       "  background-color: #fff8b4;\n",
       "  color: #000000;\n",
       "}\n",
       "#T_b7b21_row4_col2 {\n",
       "  background-color: #fafdb8;\n",
       "  color: #000000;\n",
       "}\n",
       "#T_b7b21_row4_col5 {\n",
       "  background-color: #f5fbb2;\n",
       "  color: #000000;\n",
       "}\n",
       "#T_b7b21_row5_col0 {\n",
       "  background-color: #af0926;\n",
       "  color: #f1f1f1;\n",
       "}\n",
       "#T_b7b21_row5_col1 {\n",
       "  background-color: #b71126;\n",
       "  color: #f1f1f1;\n",
       "}\n",
       "#T_b7b21_row5_col2 {\n",
       "  background-color: #82c966;\n",
       "  color: #000000;\n",
       "}\n",
       "#T_b7b21_row5_col3 {\n",
       "  background-color: #78c565;\n",
       "  color: #000000;\n",
       "}\n",
       "#T_b7b21_row5_col4 {\n",
       "  background-color: #c21c27;\n",
       "  color: #f1f1f1;\n",
       "}\n",
       "</style>\n",
       "<table id=\"T_b7b21\">\n",
       "  <thead>\n",
       "    <tr>\n",
       "      <th class=\"blank level0\" >&nbsp;</th>\n",
       "      <th id=\"T_b7b21_level0_col0\" class=\"col_heading level0 col0\" >Age</th>\n",
       "      <th id=\"T_b7b21_level0_col1\" class=\"col_heading level0 col1\" >Education</th>\n",
       "      <th id=\"T_b7b21_level0_col2\" class=\"col_heading level0 col2\" >Usage</th>\n",
       "      <th id=\"T_b7b21_level0_col3\" class=\"col_heading level0 col3\" >Fitness</th>\n",
       "      <th id=\"T_b7b21_level0_col4\" class=\"col_heading level0 col4\" >Income</th>\n",
       "      <th id=\"T_b7b21_level0_col5\" class=\"col_heading level0 col5\" >Miles</th>\n",
       "    </tr>\n",
       "  </thead>\n",
       "  <tbody>\n",
       "    <tr>\n",
       "      <th id=\"T_b7b21_level0_row0\" class=\"row_heading level0 row0\" >Age</th>\n",
       "      <td id=\"T_b7b21_row0_col0\" class=\"data row0 col0\" >1.000000</td>\n",
       "      <td id=\"T_b7b21_row0_col1\" class=\"data row0 col1\" >0.280496</td>\n",
       "      <td id=\"T_b7b21_row0_col2\" class=\"data row0 col2\" >0.015064</td>\n",
       "      <td id=\"T_b7b21_row0_col3\" class=\"data row0 col3\" >0.061105</td>\n",
       "      <td id=\"T_b7b21_row0_col4\" class=\"data row0 col4\" >0.513414</td>\n",
       "      <td id=\"T_b7b21_row0_col5\" class=\"data row0 col5\" >0.036618</td>\n",
       "    </tr>\n",
       "    <tr>\n",
       "      <th id=\"T_b7b21_level0_row1\" class=\"row_heading level0 row1\" >Education</th>\n",
       "      <td id=\"T_b7b21_row1_col0\" class=\"data row1 col0\" >0.280496</td>\n",
       "      <td id=\"T_b7b21_row1_col1\" class=\"data row1 col1\" >1.000000</td>\n",
       "      <td id=\"T_b7b21_row1_col2\" class=\"data row1 col2\" >0.395155</td>\n",
       "      <td id=\"T_b7b21_row1_col3\" class=\"data row1 col3\" >0.410581</td>\n",
       "      <td id=\"T_b7b21_row1_col4\" class=\"data row1 col4\" >0.625827</td>\n",
       "      <td id=\"T_b7b21_row1_col5\" class=\"data row1 col5\" >0.307284</td>\n",
       "    </tr>\n",
       "    <tr>\n",
       "      <th id=\"T_b7b21_level0_row2\" class=\"row_heading level0 row2\" >Usage</th>\n",
       "      <td id=\"T_b7b21_row2_col0\" class=\"data row2 col0\" >0.015064</td>\n",
       "      <td id=\"T_b7b21_row2_col1\" class=\"data row2 col1\" >0.395155</td>\n",
       "      <td id=\"T_b7b21_row2_col2\" class=\"data row2 col2\" >1.000000</td>\n",
       "      <td id=\"T_b7b21_row2_col3\" class=\"data row2 col3\" >0.668606</td>\n",
       "      <td id=\"T_b7b21_row2_col4\" class=\"data row2 col4\" >0.519537</td>\n",
       "      <td id=\"T_b7b21_row2_col5\" class=\"data row2 col5\" >0.759130</td>\n",
       "    </tr>\n",
       "    <tr>\n",
       "      <th id=\"T_b7b21_level0_row3\" class=\"row_heading level0 row3\" >Fitness</th>\n",
       "      <td id=\"T_b7b21_row3_col0\" class=\"data row3 col0\" >0.061105</td>\n",
       "      <td id=\"T_b7b21_row3_col1\" class=\"data row3 col1\" >0.410581</td>\n",
       "      <td id=\"T_b7b21_row3_col2\" class=\"data row3 col2\" >0.668606</td>\n",
       "      <td id=\"T_b7b21_row3_col3\" class=\"data row3 col3\" >1.000000</td>\n",
       "      <td id=\"T_b7b21_row3_col4\" class=\"data row3 col4\" >0.535005</td>\n",
       "      <td id=\"T_b7b21_row3_col5\" class=\"data row3 col5\" >0.785702</td>\n",
       "    </tr>\n",
       "    <tr>\n",
       "      <th id=\"T_b7b21_level0_row4\" class=\"row_heading level0 row4\" >Income</th>\n",
       "      <td id=\"T_b7b21_row4_col0\" class=\"data row4 col0\" >0.513414</td>\n",
       "      <td id=\"T_b7b21_row4_col1\" class=\"data row4 col1\" >0.625827</td>\n",
       "      <td id=\"T_b7b21_row4_col2\" class=\"data row4 col2\" >0.519537</td>\n",
       "      <td id=\"T_b7b21_row4_col3\" class=\"data row4 col3\" >0.535005</td>\n",
       "      <td id=\"T_b7b21_row4_col4\" class=\"data row4 col4\" >1.000000</td>\n",
       "      <td id=\"T_b7b21_row4_col5\" class=\"data row4 col5\" >0.543473</td>\n",
       "    </tr>\n",
       "    <tr>\n",
       "      <th id=\"T_b7b21_level0_row5\" class=\"row_heading level0 row5\" >Miles</th>\n",
       "      <td id=\"T_b7b21_row5_col0\" class=\"data row5 col0\" >0.036618</td>\n",
       "      <td id=\"T_b7b21_row5_col1\" class=\"data row5 col1\" >0.307284</td>\n",
       "      <td id=\"T_b7b21_row5_col2\" class=\"data row5 col2\" >0.759130</td>\n",
       "      <td id=\"T_b7b21_row5_col3\" class=\"data row5 col3\" >0.785702</td>\n",
       "      <td id=\"T_b7b21_row5_col4\" class=\"data row5 col4\" >0.543473</td>\n",
       "      <td id=\"T_b7b21_row5_col5\" class=\"data row5 col5\" >1.000000</td>\n",
       "    </tr>\n",
       "  </tbody>\n",
       "</table>\n"
      ],
      "text/plain": [
       "<pandas.io.formats.style.Styler at 0x1bfefc9e5e0>"
      ]
     },
     "metadata": {},
     "output_type": "display_data"
    },
    {
     "name": "stdout",
     "output_type": "stream",
     "text": [
      "\n",
      "Below map using seaborn and has more clarity\n"
     ]
    },
    {
     "data": {
      "image/png": "[encoded data removed]",
      "text/plain": [
       "<Figure size 432x288 with 2 Axes>"
      ]
     },
     "metadata": {
      "needs_background": "light"
     },
     "output_type": "display_data"
    }
   ],
   "source": [
    "d(\n",
    "    aero_df\n",
    "    .corr()\n",
    "    .style\n",
    "    .background_gradient(cmap='RdYlGn')\n",
    ")# the upper right trinagle not giving an exact mirror image of lower triangle, using sns.heatmap() #####  Comments\n",
    "print()\n",
    "print(\"Below map using seaborn and has more clarity\")\n",
    "(\n",
    "    sns\n",
    "    .heatmap(\n",
    "                data=aero_df.corr(),\n",
    "                annot=True,\n",
    "                linewidths=10,\n",
    "                cmap='RdYlGn'\n",
    "            )\n",
    ")# Gives more clarity in terms of correlation between variables... ##### Comments\n",
    "\n",
    "plt.show()"
   ]
  },
  {
   "cell_type": "markdown",
   "id": "4561e40f-8ca1-4eea-b35e-71fbcacb9d5d",
   "metadata": {
    "tags": []
   },
   "source": [
    "#####  Insights/Comments\n",
    "- From above heatmap, we can see that: \n",
    "    - Fitness and Miles are positively and strongly correlated\n",
    "    - Usage and Miles are positively and strongly correlated\n",
    "    - Hence Fitness and Usage are also correlated\n",
    "    - Income and Education is correlated (possibly imply that with higher\n",
    "       education theres more income)\n"
   ]
  },
  {
   "cell_type": "code",
   "execution_count": 22,
   "id": "1c1637c4-5681-4e74-b7fb-85ece7964349",
   "metadata": {
    "tags": []
   },
   "outputs": [
    {
     "data": {
      "image/png": "[encoded data removed]",
      "text/plain": [
       "<Figure size 1080x1080 with 27 Axes>"
      ]
     },
     "metadata": {
      "needs_background": "light"
     },
     "output_type": "display_data"
    }
   ],
   "source": [
    "sns.pairplot(aero_df,corner=True)#not using this plot for inference for further plotting #####  Comments\n",
    "plt.show()"
   ]
  },
  {
   "cell_type": "code",
   "execution_count": 23,
   "id": "09cb3c1e-9cc2-4228-9883-7cb4d5757eb0",
   "metadata": {
    "tags": []
   },
   "outputs": [
    {
     "data": {
      "image/png": "[encoded data removed]",
      "text/plain": [
       "<Figure size 1440x1440 with 6 Axes>"
      ]
     },
     "metadata": {
      "needs_background": "light"
     },
     "output_type": "display_data"
    },
    {
     "name": "stdout",
     "output_type": "stream",
     "text": [
      "\n",
      "Better Plots\n"
     ]
    },
    {
     "data": {
      "image/png": "[encoded data removed]",
      "text/plain": [
       "<Figure size 2160x720 with 6 Axes>"
      ]
     },
     "metadata": {
      "needs_background": "light"
     },
     "output_type": "display_data"
    }
   ],
   "source": [
    "#Plotting the histogram to see the common value and the bins of data \n",
    "##### Comments\n",
    "(\n",
    "    aero_df\n",
    "    .select_dtypes('integer')\n",
    "    .hist(figsize=(20,20))\n",
    ")\n",
    "\n",
    "plt.show()\n",
    "print()\n",
    "print('Better Plots')\n",
    "\n",
    "rows = aero_df.select_dtypes('integer').shape[1]\n",
    "f, a = plt.subplots(nrows=1,ncols=rows,figsize=(30,10))\n",
    "axes = 0\n",
    "for name,data in aero_df.select_dtypes('integer').iteritems():\n",
    "    sns.histplot(data=data,ax=a[axes],kde=True,stat='count',color='green')\n",
    "    axes+=1"
   ]
  },
  {
   "cell_type": "markdown",
   "id": "0865a8e6-402f-44e5-b81a-613e962d1b68",
   "metadata": {
    "tags": []
   },
   "source": [
    "#####  Insights/Comments\n",
    "- The above plots give us an idea of the distribution of data for all the columns which are discrete and continuos\n",
    "- Usage is mainly between 3 and 4\n",
    "- Fitness is mostly 3 days a week\n",
    "- Income of people buying the treadmills are mostly between 40k and 60k\n",
    "- Miles are predominantly around 100 miles\n",
    "- Education is mainly 14, 16 and 18 years, which shows that we have mainly undergrads and then postgrads\n",
    "\n",
    "- Skewness\n",
    "  - Age Miles usage are positively skewed/right skewed\n",
    "  - Fitness, Education is almost no skew\n",
    "  - Education , Income are a bimodal distribution (Not sure about it) but positive skew\n",
    "\n",
    "\n"
   ]
  },
  {
   "cell_type": "code",
   "execution_count": 24,
   "id": "c3dc054a-cca7-4e4d-ac6a-f67dd3bb9458",
   "metadata": {
    "tags": []
   },
   "outputs": [
    {
     "name": "stdout",
     "output_type": "stream",
     "text": [
      "\n"
     ]
    },
    {
     "data": {
      "text/html": [
       "<div>\n",
       "<style scoped>\n",
       "    .dataframe tbody tr th:only-of-type {\n",
       "        vertical-align: middle;\n",
       "    }\n",
       "\n",
       "    .dataframe tbody tr th {\n",
       "        vertical-align: top;\n",
       "    }\n",
       "\n",
       "    .dataframe thead th {\n",
       "        text-align: right;\n",
       "    }\n",
       "</style>\n",
       "<table border=\"1\" class=\"dataframe\">\n",
       "  <thead>\n",
       "    <tr style=\"text-align: right;\">\n",
       "      <th></th>\n",
       "      <th></th>\n",
       "      <th>count</th>\n",
       "    </tr>\n",
       "    <tr>\n",
       "      <th>Gender</th>\n",
       "      <th>Product</th>\n",
       "      <th></th>\n",
       "    </tr>\n",
       "  </thead>\n",
       "  <tbody>\n",
       "    <tr>\n",
       "      <th rowspan=\"3\" valign=\"top\">Female</th>\n",
       "      <th>KP281</th>\n",
       "      <td>40</td>\n",
       "    </tr>\n",
       "    <tr>\n",
       "      <th>KP481</th>\n",
       "      <td>29</td>\n",
       "    </tr>\n",
       "    <tr>\n",
       "      <th>KP781</th>\n",
       "      <td>7</td>\n",
       "    </tr>\n",
       "    <tr>\n",
       "      <th rowspan=\"3\" valign=\"top\">Male</th>\n",
       "      <th>KP281</th>\n",
       "      <td>40</td>\n",
       "    </tr>\n",
       "    <tr>\n",
       "      <th>KP481</th>\n",
       "      <td>31</td>\n",
       "    </tr>\n",
       "    <tr>\n",
       "      <th>KP781</th>\n",
       "      <td>33</td>\n",
       "    </tr>\n",
       "  </tbody>\n",
       "</table>\n",
       "</div>"
      ],
      "text/plain": [
       "                count\n",
       "Gender Product       \n",
       "Female KP281       40\n",
       "       KP481       29\n",
       "       KP781        7\n",
       "Male   KP281       40\n",
       "       KP481       31\n",
       "       KP781       33"
      ]
     },
     "metadata": {},
     "output_type": "display_data"
    },
    {
     "data": {
      "text/html": [
       "<div>\n",
       "<style scoped>\n",
       "    .dataframe tbody tr th:only-of-type {\n",
       "        vertical-align: middle;\n",
       "    }\n",
       "\n",
       "    .dataframe tbody tr th {\n",
       "        vertical-align: top;\n",
       "    }\n",
       "\n",
       "    .dataframe thead th {\n",
       "        text-align: right;\n",
       "    }\n",
       "</style>\n",
       "<table border=\"1\" class=\"dataframe\">\n",
       "  <thead>\n",
       "    <tr style=\"text-align: right;\">\n",
       "      <th></th>\n",
       "      <th>Gender</th>\n",
       "      <th>count</th>\n",
       "    </tr>\n",
       "  </thead>\n",
       "  <tbody>\n",
       "    <tr>\n",
       "      <th>0</th>\n",
       "      <td>Female</td>\n",
       "      <td>76</td>\n",
       "    </tr>\n",
       "    <tr>\n",
       "      <th>1</th>\n",
       "      <td>Male</td>\n",
       "      <td>104</td>\n",
       "    </tr>\n",
       "  </tbody>\n",
       "</table>\n",
       "</div>"
      ],
      "text/plain": [
       "   Gender  count\n",
       "0  Female     76\n",
       "1    Male    104"
      ]
     },
     "metadata": {},
     "output_type": "display_data"
    },
    {
     "data": {
      "text/html": [
       "<div>\n",
       "<style scoped>\n",
       "    .dataframe tbody tr th:only-of-type {\n",
       "        vertical-align: middle;\n",
       "    }\n",
       "\n",
       "    .dataframe tbody tr th {\n",
       "        vertical-align: top;\n",
       "    }\n",
       "\n",
       "    .dataframe thead th {\n",
       "        text-align: right;\n",
       "    }\n",
       "</style>\n",
       "<table border=\"1\" class=\"dataframe\">\n",
       "  <thead>\n",
       "    <tr style=\"text-align: right;\">\n",
       "      <th></th>\n",
       "      <th>Product</th>\n",
       "      <th>count</th>\n",
       "    </tr>\n",
       "  </thead>\n",
       "  <tbody>\n",
       "    <tr>\n",
       "      <th>0</th>\n",
       "      <td>KP281</td>\n",
       "      <td>80</td>\n",
       "    </tr>\n",
       "    <tr>\n",
       "      <th>1</th>\n",
       "      <td>KP481</td>\n",
       "      <td>60</td>\n",
       "    </tr>\n",
       "    <tr>\n",
       "      <th>2</th>\n",
       "      <td>KP781</td>\n",
       "      <td>40</td>\n",
       "    </tr>\n",
       "  </tbody>\n",
       "</table>\n",
       "</div>"
      ],
      "text/plain": [
       "  Product  count\n",
       "0   KP281     80\n",
       "1   KP481     60\n",
       "2   KP781     40"
      ]
     },
     "metadata": {},
     "output_type": "display_data"
    },
    {
     "data": {
      "text/plain": [
       "'Total products'"
      ]
     },
     "metadata": {},
     "output_type": "display_data"
    },
    {
     "data": {
      "text/plain": [
       "180"
      ]
     },
     "metadata": {},
     "output_type": "display_data"
    }
   ],
   "source": [
    "print()\n",
    "d(\n",
    "    aero_df\n",
    "    .groupby(['Gender','Product'])\n",
    "    ['Product']\n",
    "    .agg(['count'])\n",
    ")# Calculation for above plot #####  Comments\n",
    "d(\n",
    "    aero_df\n",
    "    .groupby(['Gender'])\n",
    "    ['Product']\n",
    "    .agg(['count'])\n",
    "    .reset_index()\n",
    ")\n",
    "d(\n",
    "    aero_df\n",
    "    .groupby(['Product'])\n",
    "    ['Product']\n",
    "    .agg(['count'])\n",
    "    .reset_index()\n",
    ")\n",
    "d(\n",
    "    'Total products',\n",
    "    len(aero_df)\n",
    ")\n",
    "# Used for marginal probability ##### Comments"
   ]
  },
  {
   "cell_type": "markdown",
   "id": "27538111-0add-4a12-a5e5-34121d878335",
   "metadata": {
    "tags": []
   },
   "source": [
    "#####  Insights/Comments/Calculation\n",
    ">  Out of the 180 products probability that the person buying a product is a male, 104/180 -> 0.58\n",
    "and the person being a Female is, 76/180 -> 0.42\n",
    " \n",
    "> p[male] + p[female] = 0.58 + 0.42 = 1\n",
    " \n",
    "> Similarly probability of the product being bought is KP281, KP481 and KP781 respectively is,\n",
    "    \n",
    "> p[KP281] = 80/180 = 0.45\n",
    " \n",
    "> p[KP481] = 60/180 = 0.33\n",
    " \n",
    "> p[KP781] = 40/180 = 0.22\n",
    " \n",
    " \n",
    "> From these marginal probabilities we can see that Males are more interested in treadmills than females as the distribution is 58% males and 42% females.\n",
    "\n",
    "> Also, we can see that the Product KP281 is most preferred generally and amounts to 45% of the sales.\n",
    "\n",
    "> We have to dig deeper into gender and find out what males and females prefer among these products."
   ]
  },
  {
   "cell_type": "code",
   "execution_count": 25,
   "id": "4ca66f34-6fb2-4f58-8ed5-d8b1431800e0",
   "metadata": {
    "tags": []
   },
   "outputs": [
    {
     "data": {
      "text/html": [
       "<div>\n",
       "<style scoped>\n",
       "    .dataframe tbody tr th:only-of-type {\n",
       "        vertical-align: middle;\n",
       "    }\n",
       "\n",
       "    .dataframe tbody tr th {\n",
       "        vertical-align: top;\n",
       "    }\n",
       "\n",
       "    .dataframe thead th {\n",
       "        text-align: right;\n",
       "    }\n",
       "</style>\n",
       "<table border=\"1\" class=\"dataframe\">\n",
       "  <thead>\n",
       "    <tr style=\"text-align: right;\">\n",
       "      <th>Product</th>\n",
       "      <th>KP281</th>\n",
       "      <th>KP481</th>\n",
       "      <th>KP781</th>\n",
       "      <th>All</th>\n",
       "    </tr>\n",
       "    <tr>\n",
       "      <th>Gender</th>\n",
       "      <th></th>\n",
       "      <th></th>\n",
       "      <th></th>\n",
       "      <th></th>\n",
       "    </tr>\n",
       "  </thead>\n",
       "  <tbody>\n",
       "    <tr>\n",
       "      <th>Female</th>\n",
       "      <td>40</td>\n",
       "      <td>29</td>\n",
       "      <td>7</td>\n",
       "      <td>76</td>\n",
       "    </tr>\n",
       "    <tr>\n",
       "      <th>Male</th>\n",
       "      <td>40</td>\n",
       "      <td>31</td>\n",
       "      <td>33</td>\n",
       "      <td>104</td>\n",
       "    </tr>\n",
       "    <tr>\n",
       "      <th>All</th>\n",
       "      <td>80</td>\n",
       "      <td>60</td>\n",
       "      <td>40</td>\n",
       "      <td>180</td>\n",
       "    </tr>\n",
       "  </tbody>\n",
       "</table>\n",
       "</div>"
      ],
      "text/plain": [
       "Product  KP281  KP481  KP781  All\n",
       "Gender                           \n",
       "Female      40     29      7   76\n",
       "Male        40     31     33  104\n",
       "All         80     60     40  180"
      ]
     },
     "metadata": {},
     "output_type": "display_data"
    }
   ],
   "source": [
    "d(\n",
    "    pd\n",
    "    .crosstab(\n",
    "                index=aero_df['Gender'],\n",
    "                columns = aero_df['Product'],\n",
    "                margins=True\n",
    "             )\n",
    " )"
   ]
  },
  {
   "cell_type": "markdown",
   "id": "37d1ce9f-5dce-4f46-8635-9ced78fdac9c",
   "metadata": {
    "tags": []
   },
   "source": [
    "#####  Insights/Comments/Calculation\n",
    "   > The below are joint probability or intersection of two\n",
    "\n",
    "   > P[\"Male buying KP281\"] or p['Male'] and p[KP281]  = 40/180 = 0.222\n",
    "\n",
    "   > P[\"Male buying KP481\"] or P[Male and KP481]      = 31/180 = 0.172\n",
    "\n",
    "   > P[\"Male buying KP781\"] or p['Male'] and p[KP781]  = 33/180 = 0.183\n",
    "\n",
    "\n",
    "\n",
    "   > P[\"Female buying KP281\"] or p['Female'] and p[KP281]= 40/180 = 0.222\n",
    "\n",
    "   > P[\"Female buying KP481\"] or p['Female'] and p[KP481]= 29/180 = 0.161\n",
    "\n",
    "   > P[\"Female buying KP781\"] or p['Female'] and p[KP781]= 7/180 = 0.038\n",
    "\n",
    "\n"
   ]
  },
  {
   "cell_type": "code",
   "execution_count": 26,
   "id": "17b913df-d370-438f-99a9-807a2e822cde",
   "metadata": {
    "tags": []
   },
   "outputs": [
    {
     "data": {
      "text/html": [
       "<div>\n",
       "<style scoped>\n",
       "    .dataframe tbody tr th:only-of-type {\n",
       "        vertical-align: middle;\n",
       "    }\n",
       "\n",
       "    .dataframe tbody tr th {\n",
       "        vertical-align: top;\n",
       "    }\n",
       "\n",
       "    .dataframe thead th {\n",
       "        text-align: right;\n",
       "    }\n",
       "</style>\n",
       "<table border=\"1\" class=\"dataframe\">\n",
       "  <thead>\n",
       "    <tr style=\"text-align: right;\">\n",
       "      <th>Product</th>\n",
       "      <th>KP281</th>\n",
       "      <th>KP481</th>\n",
       "      <th>KP781</th>\n",
       "      <th>All</th>\n",
       "    </tr>\n",
       "    <tr>\n",
       "      <th>Gender</th>\n",
       "      <th></th>\n",
       "      <th></th>\n",
       "      <th></th>\n",
       "      <th></th>\n",
       "    </tr>\n",
       "  </thead>\n",
       "  <tbody>\n",
       "    <tr>\n",
       "      <th>Female</th>\n",
       "      <td>0.222222</td>\n",
       "      <td>0.161111</td>\n",
       "      <td>0.038889</td>\n",
       "      <td>0.422222</td>\n",
       "    </tr>\n",
       "    <tr>\n",
       "      <th>Male</th>\n",
       "      <td>0.222222</td>\n",
       "      <td>0.172222</td>\n",
       "      <td>0.183333</td>\n",
       "      <td>0.577778</td>\n",
       "    </tr>\n",
       "    <tr>\n",
       "      <th>All</th>\n",
       "      <td>0.444444</td>\n",
       "      <td>0.333333</td>\n",
       "      <td>0.222222</td>\n",
       "      <td>1.000000</td>\n",
       "    </tr>\n",
       "  </tbody>\n",
       "</table>\n",
       "</div>"
      ],
      "text/plain": [
       "Product     KP281     KP481     KP781       All\n",
       "Gender                                         \n",
       "Female   0.222222  0.161111  0.038889  0.422222\n",
       "Male     0.222222  0.172222  0.183333  0.577778\n",
       "All      0.444444  0.333333  0.222222  1.000000"
      ]
     },
     "metadata": {},
     "output_type": "display_data"
    }
   ],
   "source": [
    "d(\n",
    "    pd\n",
    "    .crosstab(\n",
    "                index=aero_df['Gender'],\n",
    "                columns = aero_df['Product'],\n",
    "                margins=True\n",
    "                # normalize = True # can be used instead of /180, \n",
    "                # using division to have better understanding #####  Comments\n",
    "             )/180\n",
    " )"
   ]
  },
  {
   "cell_type": "markdown",
   "id": "5caa9147-8e12-4708-aba2-8c2efb765fd1",
   "metadata": {
    "tags": []
   },
   "source": [
    "#####  Insights/Comments/Calculation\n",
    "To verify the above probability calculated are correct, we can divide the crosstab datafram with no of products, here we can take static value 180\n",
    "\n",
    "Values on the bottom and right edges represent the marginal probabilities and the rest represent the respective joint probabilities\n",
    "\n",
    "From here we can move onto find the conditional probabilities,\n",
    "\n",
    "Probability that the given person is male/female and he/she would be interested in any of the products\n",
    "\n",
    "\n",
    "Based on this formula, p[Product1/Male] = p[Product1 and Male]/p[Male] we can compute the conditional probabilites as:\n",
    "\n",
    "  p[KP281/Male] = 0.22/0.58 = 0.38 0.4\n",
    "\n",
    "  p[KP481/Male] = 0.17/0.58 = 0.29 0.3\n",
    "\n",
    "  p[KP781/Male] = 0.20/0.58 = 0.33 0.3\n",
    "\n",
    "  p[KP281/Female] = 0.22/0.42 = 0.5\n",
    "\n",
    "  p[KP481/Female] = 0.16/0.42 = 0.4\n",
    "\n",
    "  p[KP781/Female] = 0.034/0.42 = 0.1\n",
    "\n",
    "\n",
    "Out of males, Highest preffered is the KP281 but the other two are also preferred (probably based on income)\n",
    "Out of females, Highest preferred is KP281 and least preffered is KP781\n",
    "KP281 is preferred more by male and female which was inferred earlier."
   ]
  },
  {
   "cell_type": "code",
   "execution_count": 41,
   "id": "4dc168a0-eab8-4f5e-8322-edaea7645818",
   "metadata": {
    "tags": []
   },
   "outputs": [
    {
     "data": {
      "text/html": [
       "<div>\n",
       "<style scoped>\n",
       "    .dataframe tbody tr th:only-of-type {\n",
       "        vertical-align: middle;\n",
       "    }\n",
       "\n",
       "    .dataframe tbody tr th {\n",
       "        vertical-align: top;\n",
       "    }\n",
       "\n",
       "    .dataframe thead th {\n",
       "        text-align: right;\n",
       "    }\n",
       "</style>\n",
       "<table border=\"1\" class=\"dataframe\">\n",
       "  <thead>\n",
       "    <tr style=\"text-align: right;\">\n",
       "      <th>Product</th>\n",
       "      <th>KP281</th>\n",
       "      <th>KP481</th>\n",
       "      <th>KP781</th>\n",
       "    </tr>\n",
       "    <tr>\n",
       "      <th>Gender</th>\n",
       "      <th></th>\n",
       "      <th></th>\n",
       "      <th></th>\n",
       "    </tr>\n",
       "  </thead>\n",
       "  <tbody>\n",
       "    <tr>\n",
       "      <th>Female</th>\n",
       "      <td>0.53</td>\n",
       "      <td>0.38</td>\n",
       "      <td>0.09</td>\n",
       "    </tr>\n",
       "    <tr>\n",
       "      <th>Male</th>\n",
       "      <td>0.38</td>\n",
       "      <td>0.30</td>\n",
       "      <td>0.32</td>\n",
       "    </tr>\n",
       "  </tbody>\n",
       "</table>\n",
       "</div>"
      ],
      "text/plain": [
       "Product  KP281  KP481  KP781\n",
       "Gender                      \n",
       "Female    0.53   0.38   0.09\n",
       "Male      0.38   0.30   0.32"
      ]
     },
     "metadata": {},
     "output_type": "display_data"
    }
   ],
   "source": [
    "d(\n",
    "    round(\n",
    "            pd\n",
    "            .crosstab(\n",
    "                        index=aero_df['Gender'],\n",
    "                        columns = aero_df['Product'],\n",
    "                        normalize='index'\n",
    "                     ),\n",
    "            2\n",
    "        )\n",
    " )# using to verify the results with help of normalize and keyword #####  Comments"
   ]
  },
  {
   "cell_type": "code",
   "execution_count": 28,
   "id": "7ceed760-ac15-4435-b280-e5a292effa9c",
   "metadata": {
    "tags": []
   },
   "outputs": [
    {
     "data": {
      "text/html": [
       "<div>\n",
       "<style scoped>\n",
       "    .dataframe tbody tr th:only-of-type {\n",
       "        vertical-align: middle;\n",
       "    }\n",
       "\n",
       "    .dataframe tbody tr th {\n",
       "        vertical-align: top;\n",
       "    }\n",
       "\n",
       "    .dataframe thead th {\n",
       "        text-align: right;\n",
       "    }\n",
       "</style>\n",
       "<table border=\"1\" class=\"dataframe\">\n",
       "  <thead>\n",
       "    <tr style=\"text-align: right;\">\n",
       "      <th>Product</th>\n",
       "      <th>KP281</th>\n",
       "      <th>KP481</th>\n",
       "      <th>KP781</th>\n",
       "    </tr>\n",
       "    <tr>\n",
       "      <th>Gender</th>\n",
       "      <th></th>\n",
       "      <th></th>\n",
       "      <th></th>\n",
       "    </tr>\n",
       "  </thead>\n",
       "  <tbody>\n",
       "    <tr>\n",
       "      <th>Female</th>\n",
       "      <td>0.5</td>\n",
       "      <td>0.483</td>\n",
       "      <td>0.175</td>\n",
       "    </tr>\n",
       "    <tr>\n",
       "      <th>Male</th>\n",
       "      <td>0.5</td>\n",
       "      <td>0.517</td>\n",
       "      <td>0.825</td>\n",
       "    </tr>\n",
       "  </tbody>\n",
       "</table>\n",
       "</div>"
      ],
      "text/plain": [
       "Product  KP281  KP481  KP781\n",
       "Gender                      \n",
       "Female     0.5  0.483  0.175\n",
       "Male       0.5  0.517  0.825"
      ]
     },
     "metadata": {},
     "output_type": "display_data"
    }
   ],
   "source": [
    "d(\n",
    "    round(\n",
    "            pd\n",
    "            .crosstab(\n",
    "                        index=aero_df['Gender'],\n",
    "                        columns = aero_df['Product'],\n",
    "                        normalize='columns'\n",
    "                     ),\n",
    "            3\n",
    "        )\n",
    " )"
   ]
  },
  {
   "cell_type": "markdown",
   "id": "00b1c842-aaaa-4ff4-ae56-b5b06a5a83e8",
   "metadata": {
    "tags": []
   },
   "source": [
    "#####  Insights/Comments\n",
    "Here we can see that the the probability of the Gender who purchase a KP781 being male is very high\n",
    "and the other two products have around 50 percent of purchases made by males\n",
    "\n",
    "For Females we can see that they tend to buy cheaper options and stay away from KP781 models generally,\n",
    "and the other two products have around 50 percent chance which is almost similar to males\n",
    "\n",
    "Countplot above suggests the above inference as well.\n"
   ]
  },
  {
   "cell_type": "code",
   "execution_count": 29,
   "id": "ccfc77d7-1e57-4383-981f-cba1efeddcfc",
   "metadata": {
    "tags": []
   },
   "outputs": [
    {
     "name": "stdout",
     "output_type": "stream",
     "text": [
      "\n",
      "\n"
     ]
    },
    {
     "data": {
      "image/png": "[encoded data removed]",
      "text/plain": [
       "<Figure size 1080x360 with 1 Axes>"
      ]
     },
     "metadata": {
      "needs_background": "light"
     },
     "output_type": "display_data"
    }
   ],
   "source": [
    "plt.figure(figsize=[15,5])\n",
    "\n",
    "(\n",
    "    sns\n",
    "    .histplot(\n",
    "                data=aero_df['Product'], \n",
    "                shrink=0.5)\n",
    ")\n",
    "print()\n",
    "print()\n",
    "(\n",
    "    sns\n",
    "    .histplot(\n",
    "                data = aero_df, \n",
    "                x='Product',\n",
    "                hue='Gender',\n",
    "                shrink=0.5,\n",
    "                multiple='dodge',\n",
    "                stat='count',\n",
    "                # kde=False,#can toggle to see kde #####  Comments\n",
    "             )\n",
    ")# For the hist with count as stat plot above we can see that \n",
    "# the maximum purchase for any products.. #####  Insights/Comments\n",
    "plt.show()"
   ]
  },
  {
   "cell_type": "markdown",
   "id": "4b644388-33a5-41ea-8a8e-ff34cdeaafe5",
   "metadata": {},
   "source": [
    "#####  Insights/Comments/Calculation\n",
    "- We can see from above plot that the highest purchased product is KP281 followed by KP481 and KP781\n",
    "- Have to see what is the factor that influences this decreasing purchase towards \n",
    "- Its cleaarly evident that both genders prefer KP281, almost similar in KP481, but males like KP781 more than females\n",
    "- Out of these plots its clear that males are dominant buyers, this was evident earler as well\n",
    "- The more expensive the product gets the lesser females tend to buy, But since KP481 is base model there is no bias... But from the Most expensive product purchases its pretty clear females like cheaper product"
   ]
  },
  {
   "cell_type": "code",
   "execution_count": 30,
   "id": "a0654b12-6013-4f65-b04b-e44cc52a04b8",
   "metadata": {},
   "outputs": [
    {
     "data": {
      "text/html": [
       "<div>\n",
       "<style scoped>\n",
       "    .dataframe tbody tr th:only-of-type {\n",
       "        vertical-align: middle;\n",
       "    }\n",
       "\n",
       "    .dataframe tbody tr th {\n",
       "        vertical-align: top;\n",
       "    }\n",
       "\n",
       "    .dataframe thead th {\n",
       "        text-align: right;\n",
       "    }\n",
       "</style>\n",
       "<table border=\"1\" class=\"dataframe\">\n",
       "  <thead>\n",
       "    <tr style=\"text-align: right;\">\n",
       "      <th></th>\n",
       "      <th>MaritalStatus</th>\n",
       "      <th>count</th>\n",
       "    </tr>\n",
       "  </thead>\n",
       "  <tbody>\n",
       "    <tr>\n",
       "      <th>0</th>\n",
       "      <td>Partnered</td>\n",
       "      <td>107</td>\n",
       "    </tr>\n",
       "    <tr>\n",
       "      <th>1</th>\n",
       "      <td>Single</td>\n",
       "      <td>73</td>\n",
       "    </tr>\n",
       "  </tbody>\n",
       "</table>\n",
       "</div>"
      ],
      "text/plain": [
       "  MaritalStatus  count\n",
       "0     Partnered    107\n",
       "1        Single     73"
      ]
     },
     "metadata": {},
     "output_type": "display_data"
    },
    {
     "name": "stdout",
     "output_type": "stream",
     "text": [
      "\n"
     ]
    },
    {
     "data": {
      "text/html": [
       "<div>\n",
       "<style scoped>\n",
       "    .dataframe tbody tr th:only-of-type {\n",
       "        vertical-align: middle;\n",
       "    }\n",
       "\n",
       "    .dataframe tbody tr th {\n",
       "        vertical-align: top;\n",
       "    }\n",
       "\n",
       "    .dataframe thead th {\n",
       "        text-align: right;\n",
       "    }\n",
       "</style>\n",
       "<table border=\"1\" class=\"dataframe\">\n",
       "  <thead>\n",
       "    <tr style=\"text-align: right;\">\n",
       "      <th>MaritalStatus</th>\n",
       "      <th>Partnered</th>\n",
       "      <th>Single</th>\n",
       "      <th>All</th>\n",
       "    </tr>\n",
       "    <tr>\n",
       "      <th>Product</th>\n",
       "      <th></th>\n",
       "      <th></th>\n",
       "      <th></th>\n",
       "    </tr>\n",
       "  </thead>\n",
       "  <tbody>\n",
       "    <tr>\n",
       "      <th>KP281</th>\n",
       "      <td>48</td>\n",
       "      <td>32</td>\n",
       "      <td>80</td>\n",
       "    </tr>\n",
       "    <tr>\n",
       "      <th>KP481</th>\n",
       "      <td>36</td>\n",
       "      <td>24</td>\n",
       "      <td>60</td>\n",
       "    </tr>\n",
       "    <tr>\n",
       "      <th>KP781</th>\n",
       "      <td>23</td>\n",
       "      <td>17</td>\n",
       "      <td>40</td>\n",
       "    </tr>\n",
       "    <tr>\n",
       "      <th>All</th>\n",
       "      <td>107</td>\n",
       "      <td>73</td>\n",
       "      <td>180</td>\n",
       "    </tr>\n",
       "  </tbody>\n",
       "</table>\n",
       "</div>"
      ],
      "text/plain": [
       "MaritalStatus  Partnered  Single  All\n",
       "Product                              \n",
       "KP281                 48      32   80\n",
       "KP481                 36      24   60\n",
       "KP781                 23      17   40\n",
       "All                  107      73  180"
      ]
     },
     "metadata": {},
     "output_type": "display_data"
    },
    {
     "name": "stdout",
     "output_type": "stream",
     "text": [
      "\n"
     ]
    },
    {
     "data": {
      "text/plain": [
       "'contingency table converted to probability is given below'"
      ]
     },
     "metadata": {},
     "output_type": "display_data"
    },
    {
     "data": {
      "text/html": [
       "<div>\n",
       "<style scoped>\n",
       "    .dataframe tbody tr th:only-of-type {\n",
       "        vertical-align: middle;\n",
       "    }\n",
       "\n",
       "    .dataframe tbody tr th {\n",
       "        vertical-align: top;\n",
       "    }\n",
       "\n",
       "    .dataframe thead th {\n",
       "        text-align: right;\n",
       "    }\n",
       "</style>\n",
       "<table border=\"1\" class=\"dataframe\">\n",
       "  <thead>\n",
       "    <tr style=\"text-align: right;\">\n",
       "      <th>MaritalStatus</th>\n",
       "      <th>Partnered</th>\n",
       "      <th>Single</th>\n",
       "      <th>All</th>\n",
       "    </tr>\n",
       "    <tr>\n",
       "      <th>Product</th>\n",
       "      <th></th>\n",
       "      <th></th>\n",
       "      <th></th>\n",
       "    </tr>\n",
       "  </thead>\n",
       "  <tbody>\n",
       "    <tr>\n",
       "      <th>KP281</th>\n",
       "      <td>0.266667</td>\n",
       "      <td>0.177778</td>\n",
       "      <td>0.444444</td>\n",
       "    </tr>\n",
       "    <tr>\n",
       "      <th>KP481</th>\n",
       "      <td>0.200000</td>\n",
       "      <td>0.133333</td>\n",
       "      <td>0.333333</td>\n",
       "    </tr>\n",
       "    <tr>\n",
       "      <th>KP781</th>\n",
       "      <td>0.127778</td>\n",
       "      <td>0.094444</td>\n",
       "      <td>0.222222</td>\n",
       "    </tr>\n",
       "    <tr>\n",
       "      <th>All</th>\n",
       "      <td>0.594444</td>\n",
       "      <td>0.405556</td>\n",
       "      <td>1.000000</td>\n",
       "    </tr>\n",
       "  </tbody>\n",
       "</table>\n",
       "</div>"
      ],
      "text/plain": [
       "MaritalStatus  Partnered    Single       All\n",
       "Product                                     \n",
       "KP281           0.266667  0.177778  0.444444\n",
       "KP481           0.200000  0.133333  0.333333\n",
       "KP781           0.127778  0.094444  0.222222\n",
       "All             0.594444  0.405556  1.000000"
      ]
     },
     "metadata": {},
     "output_type": "display_data"
    },
    {
     "name": "stdout",
     "output_type": "stream",
     "text": [
      "\n"
     ]
    },
    {
     "data": {
      "text/plain": [
       "'Probability that the product is so and the martial status is partnered or single'"
      ]
     },
     "metadata": {},
     "output_type": "display_data"
    },
    {
     "data": {
      "text/html": [
       "<div>\n",
       "<style scoped>\n",
       "    .dataframe tbody tr th:only-of-type {\n",
       "        vertical-align: middle;\n",
       "    }\n",
       "\n",
       "    .dataframe tbody tr th {\n",
       "        vertical-align: top;\n",
       "    }\n",
       "\n",
       "    .dataframe thead th {\n",
       "        text-align: right;\n",
       "    }\n",
       "</style>\n",
       "<table border=\"1\" class=\"dataframe\">\n",
       "  <thead>\n",
       "    <tr style=\"text-align: right;\">\n",
       "      <th>MaritalStatus</th>\n",
       "      <th>Partnered</th>\n",
       "      <th>Single</th>\n",
       "    </tr>\n",
       "    <tr>\n",
       "      <th>Product</th>\n",
       "      <th></th>\n",
       "      <th></th>\n",
       "    </tr>\n",
       "  </thead>\n",
       "  <tbody>\n",
       "    <tr>\n",
       "      <th>KP281</th>\n",
       "      <td>0.600000</td>\n",
       "      <td>0.400000</td>\n",
       "    </tr>\n",
       "    <tr>\n",
       "      <th>KP481</th>\n",
       "      <td>0.600000</td>\n",
       "      <td>0.400000</td>\n",
       "    </tr>\n",
       "    <tr>\n",
       "      <th>KP781</th>\n",
       "      <td>0.575000</td>\n",
       "      <td>0.425000</td>\n",
       "    </tr>\n",
       "    <tr>\n",
       "      <th>All</th>\n",
       "      <td>0.594444</td>\n",
       "      <td>0.405556</td>\n",
       "    </tr>\n",
       "  </tbody>\n",
       "</table>\n",
       "</div>"
      ],
      "text/plain": [
       "MaritalStatus  Partnered    Single\n",
       "Product                           \n",
       "KP281           0.600000  0.400000\n",
       "KP481           0.600000  0.400000\n",
       "KP781           0.575000  0.425000\n",
       "All             0.594444  0.405556"
      ]
     },
     "metadata": {},
     "output_type": "display_data"
    },
    {
     "name": "stdout",
     "output_type": "stream",
     "text": [
      "\n"
     ]
    },
    {
     "data": {
      "text/plain": [
       "'Probability that the Person is partnered or single and the product bought is so'"
      ]
     },
     "metadata": {},
     "output_type": "display_data"
    },
    {
     "data": {
      "text/html": [
       "<div>\n",
       "<style scoped>\n",
       "    .dataframe tbody tr th:only-of-type {\n",
       "        vertical-align: middle;\n",
       "    }\n",
       "\n",
       "    .dataframe tbody tr th {\n",
       "        vertical-align: top;\n",
       "    }\n",
       "\n",
       "    .dataframe thead th {\n",
       "        text-align: right;\n",
       "    }\n",
       "</style>\n",
       "<table border=\"1\" class=\"dataframe\">\n",
       "  <thead>\n",
       "    <tr style=\"text-align: right;\">\n",
       "      <th>MaritalStatus</th>\n",
       "      <th>Partnered</th>\n",
       "      <th>Single</th>\n",
       "      <th>All</th>\n",
       "    </tr>\n",
       "    <tr>\n",
       "      <th>Product</th>\n",
       "      <th></th>\n",
       "      <th></th>\n",
       "      <th></th>\n",
       "    </tr>\n",
       "  </thead>\n",
       "  <tbody>\n",
       "    <tr>\n",
       "      <th>KP281</th>\n",
       "      <td>0.448598</td>\n",
       "      <td>0.438356</td>\n",
       "      <td>0.444444</td>\n",
       "    </tr>\n",
       "    <tr>\n",
       "      <th>KP481</th>\n",
       "      <td>0.336449</td>\n",
       "      <td>0.328767</td>\n",
       "      <td>0.333333</td>\n",
       "    </tr>\n",
       "    <tr>\n",
       "      <th>KP781</th>\n",
       "      <td>0.214953</td>\n",
       "      <td>0.232877</td>\n",
       "      <td>0.222222</td>\n",
       "    </tr>\n",
       "  </tbody>\n",
       "</table>\n",
       "</div>"
      ],
      "text/plain": [
       "MaritalStatus  Partnered    Single       All\n",
       "Product                                     \n",
       "KP281           0.448598  0.438356  0.444444\n",
       "KP481           0.336449  0.328767  0.333333\n",
       "KP781           0.214953  0.232877  0.222222"
      ]
     },
     "metadata": {},
     "output_type": "display_data"
    },
    {
     "name": "stdout",
     "output_type": "stream",
     "text": [
      "\n"
     ]
    },
    {
     "data": {
      "image/png": "[encoded data removed]",
      "text/plain": [
       "<Figure size 1080x360 with 1 Axes>"
      ]
     },
     "metadata": {
      "needs_background": "light"
     },
     "output_type": "display_data"
    }
   ],
   "source": [
    "d(\n",
    "    aero_df\n",
    "    .groupby(['MaritalStatus'])\n",
    "    ['Product']\n",
    "    .agg(['count'])\n",
    "    .reset_index()\n",
    ")\n",
    "print()\n",
    "d(\n",
    "    pd\n",
    "    .crosstab(\n",
    "                index=aero_df['Product'],\n",
    "                columns=aero_df['MaritalStatus'],\n",
    "                margins=True\n",
    "             )\n",
    ")\n",
    "print()\n",
    "d('contingency table converted to probability is given below')\n",
    "d(\n",
    "    pd\n",
    "    .crosstab(\n",
    "                index=aero_df['Product'],\n",
    "                columns=aero_df['MaritalStatus'],\n",
    "                margins=True,\n",
    "                normalize=True\n",
    "             )\n",
    ")#for marginal probability\n",
    "print()\n",
    "d('Probability that the product is so and the martial status is partnered or single')\n",
    "d(\n",
    "    pd\n",
    "    .crosstab(\n",
    "                index=aero_df['Product'],\n",
    "                columns=aero_df['MaritalStatus'],\n",
    "                margins=True,\n",
    "                normalize='index'\n",
    "             )\n",
    ")#for conditional Probability\n",
    "print()\n",
    "d('Probability that the Person is partnered or single and the product bought is so')\n",
    "d(\n",
    "    pd\n",
    "    .crosstab(\n",
    "                index=aero_df['Product'],\n",
    "                columns=aero_df['MaritalStatus'],\n",
    "                margins=True,\n",
    "                normalize='columns'\n",
    "             )\n",
    ")\n",
    "plt.figure(figsize=[15,5])\n",
    "(\n",
    "    sns\n",
    "    .histplot(\n",
    "                data = aero_df, \n",
    "                x='MaritalStatus',\n",
    "                multiple='dodge',\n",
    "                shrink=0.8,\n",
    "                stat='count'\n",
    "             )\n",
    ")\n",
    "print()\n",
    "plt.title('Plot for martial status and product bought')\n",
    "(\n",
    "    sns\n",
    "    .histplot(\n",
    "                data = aero_df, \n",
    "                x='MaritalStatus',\n",
    "                hue='Product',\n",
    "                multiple='dodge',\n",
    "                shrink=0.5,\n",
    "                stat='count'\n",
    "             )\n",
    ")\n",
    "plt.show()"
   ]
  },
  {
   "cell_type": "markdown",
   "id": "7d266fc2-510f-412c-961e-52b01f035475",
   "metadata": {
    "tags": []
   },
   "source": [
    "#####  Insights/Comments/Calculation\n",
    "\n",
    "Its clear from this conditional probabilty and probabilities that partnered couples are the ones  who prefer the products more than single people probably due to joint income, Above Probabilities are evident from the plot\n",
    "     \n",
    "1) Most buyers are partnered and whether they are partnered or not they prefer the cheapest option more.\n",
    "2) there is some other factor which has more influence on the treadmill bought probably income from analysis till now...\n",
    "     "
   ]
  },
  {
   "cell_type": "code",
   "execution_count": 31,
   "id": "54a78896-37ad-48e5-8ca6-d79fd10c9032",
   "metadata": {},
   "outputs": [
    {
     "data": {
      "image/png": "[encoded data removed]",
      "text/plain": [
       "<Figure size 1440x720 with 4 Axes>"
      ]
     },
     "metadata": {
      "needs_background": "light"
     },
     "output_type": "display_data"
    },
    {
     "name": "stdout",
     "output_type": "stream",
     "text": [
      "\n"
     ]
    },
    {
     "data": {
      "text/html": [
       "<div>\n",
       "<style scoped>\n",
       "    .dataframe tbody tr th:only-of-type {\n",
       "        vertical-align: middle;\n",
       "    }\n",
       "\n",
       "    .dataframe tbody tr th {\n",
       "        vertical-align: top;\n",
       "    }\n",
       "\n",
       "    .dataframe thead th {\n",
       "        text-align: right;\n",
       "    }\n",
       "</style>\n",
       "<table border=\"1\" class=\"dataframe\">\n",
       "  <thead>\n",
       "    <tr style=\"text-align: right;\">\n",
       "      <th>Fitness</th>\n",
       "      <th>1</th>\n",
       "      <th>2</th>\n",
       "      <th>3</th>\n",
       "      <th>4</th>\n",
       "      <th>5</th>\n",
       "      <th>All</th>\n",
       "    </tr>\n",
       "    <tr>\n",
       "      <th>Product</th>\n",
       "      <th></th>\n",
       "      <th></th>\n",
       "      <th></th>\n",
       "      <th></th>\n",
       "      <th></th>\n",
       "      <th></th>\n",
       "    </tr>\n",
       "  </thead>\n",
       "  <tbody>\n",
       "    <tr>\n",
       "      <th>KP281</th>\n",
       "      <td>1</td>\n",
       "      <td>14</td>\n",
       "      <td>54</td>\n",
       "      <td>9</td>\n",
       "      <td>2</td>\n",
       "      <td>80</td>\n",
       "    </tr>\n",
       "    <tr>\n",
       "      <th>KP481</th>\n",
       "      <td>1</td>\n",
       "      <td>12</td>\n",
       "      <td>39</td>\n",
       "      <td>8</td>\n",
       "      <td>0</td>\n",
       "      <td>60</td>\n",
       "    </tr>\n",
       "    <tr>\n",
       "      <th>KP781</th>\n",
       "      <td>0</td>\n",
       "      <td>0</td>\n",
       "      <td>4</td>\n",
       "      <td>7</td>\n",
       "      <td>29</td>\n",
       "      <td>40</td>\n",
       "    </tr>\n",
       "    <tr>\n",
       "      <th>All</th>\n",
       "      <td>2</td>\n",
       "      <td>26</td>\n",
       "      <td>97</td>\n",
       "      <td>24</td>\n",
       "      <td>31</td>\n",
       "      <td>180</td>\n",
       "    </tr>\n",
       "  </tbody>\n",
       "</table>\n",
       "</div>"
      ],
      "text/plain": [
       "Fitness  1   2   3   4   5  All\n",
       "Product                        \n",
       "KP281    1  14  54   9   2   80\n",
       "KP481    1  12  39   8   0   60\n",
       "KP781    0   0   4   7  29   40\n",
       "All      2  26  97  24  31  180"
      ]
     },
     "metadata": {},
     "output_type": "display_data"
    },
    {
     "name": "stdout",
     "output_type": "stream",
     "text": [
      "\n"
     ]
    },
    {
     "data": {
      "text/plain": [
       "'contingencytable converted to probability is given below'"
      ]
     },
     "metadata": {},
     "output_type": "display_data"
    },
    {
     "data": {
      "text/html": [
       "<div>\n",
       "<style scoped>\n",
       "    .dataframe tbody tr th:only-of-type {\n",
       "        vertical-align: middle;\n",
       "    }\n",
       "\n",
       "    .dataframe tbody tr th {\n",
       "        vertical-align: top;\n",
       "    }\n",
       "\n",
       "    .dataframe thead th {\n",
       "        text-align: right;\n",
       "    }\n",
       "</style>\n",
       "<table border=\"1\" class=\"dataframe\">\n",
       "  <thead>\n",
       "    <tr style=\"text-align: right;\">\n",
       "      <th>Fitness</th>\n",
       "      <th>1</th>\n",
       "      <th>2</th>\n",
       "      <th>3</th>\n",
       "      <th>4</th>\n",
       "      <th>5</th>\n",
       "      <th>All</th>\n",
       "    </tr>\n",
       "    <tr>\n",
       "      <th>Product</th>\n",
       "      <th></th>\n",
       "      <th></th>\n",
       "      <th></th>\n",
       "      <th></th>\n",
       "      <th></th>\n",
       "      <th></th>\n",
       "    </tr>\n",
       "  </thead>\n",
       "  <tbody>\n",
       "    <tr>\n",
       "      <th>KP281</th>\n",
       "      <td>0.005556</td>\n",
       "      <td>0.077778</td>\n",
       "      <td>0.300000</td>\n",
       "      <td>0.050000</td>\n",
       "      <td>0.011111</td>\n",
       "      <td>0.444444</td>\n",
       "    </tr>\n",
       "    <tr>\n",
       "      <th>KP481</th>\n",
       "      <td>0.005556</td>\n",
       "      <td>0.066667</td>\n",
       "      <td>0.216667</td>\n",
       "      <td>0.044444</td>\n",
       "      <td>0.000000</td>\n",
       "      <td>0.333333</td>\n",
       "    </tr>\n",
       "    <tr>\n",
       "      <th>KP781</th>\n",
       "      <td>0.000000</td>\n",
       "      <td>0.000000</td>\n",
       "      <td>0.022222</td>\n",
       "      <td>0.038889</td>\n",
       "      <td>0.161111</td>\n",
       "      <td>0.222222</td>\n",
       "    </tr>\n",
       "    <tr>\n",
       "      <th>All</th>\n",
       "      <td>0.011111</td>\n",
       "      <td>0.144444</td>\n",
       "      <td>0.538889</td>\n",
       "      <td>0.133333</td>\n",
       "      <td>0.172222</td>\n",
       "      <td>1.000000</td>\n",
       "    </tr>\n",
       "  </tbody>\n",
       "</table>\n",
       "</div>"
      ],
      "text/plain": [
       "Fitness         1         2         3         4         5       All\n",
       "Product                                                            \n",
       "KP281    0.005556  0.077778  0.300000  0.050000  0.011111  0.444444\n",
       "KP481    0.005556  0.066667  0.216667  0.044444  0.000000  0.333333\n",
       "KP781    0.000000  0.000000  0.022222  0.038889  0.161111  0.222222\n",
       "All      0.011111  0.144444  0.538889  0.133333  0.172222  1.000000"
      ]
     },
     "metadata": {},
     "output_type": "display_data"
    },
    {
     "name": "stdout",
     "output_type": "stream",
     "text": [
      "\n"
     ]
    },
    {
     "data": {
      "text/plain": [
       "'conditional probability of rating based on the product is given below'"
      ]
     },
     "metadata": {},
     "output_type": "display_data"
    },
    {
     "data": {
      "text/html": [
       "<div>\n",
       "<style scoped>\n",
       "    .dataframe tbody tr th:only-of-type {\n",
       "        vertical-align: middle;\n",
       "    }\n",
       "\n",
       "    .dataframe tbody tr th {\n",
       "        vertical-align: top;\n",
       "    }\n",
       "\n",
       "    .dataframe thead th {\n",
       "        text-align: right;\n",
       "    }\n",
       "</style>\n",
       "<table border=\"1\" class=\"dataframe\">\n",
       "  <thead>\n",
       "    <tr style=\"text-align: right;\">\n",
       "      <th>Fitness</th>\n",
       "      <th>1</th>\n",
       "      <th>2</th>\n",
       "      <th>3</th>\n",
       "      <th>4</th>\n",
       "      <th>5</th>\n",
       "    </tr>\n",
       "    <tr>\n",
       "      <th>Product</th>\n",
       "      <th></th>\n",
       "      <th></th>\n",
       "      <th></th>\n",
       "      <th></th>\n",
       "      <th></th>\n",
       "    </tr>\n",
       "  </thead>\n",
       "  <tbody>\n",
       "    <tr>\n",
       "      <th>KP281</th>\n",
       "      <td>0.012500</td>\n",
       "      <td>0.175000</td>\n",
       "      <td>0.675000</td>\n",
       "      <td>0.112500</td>\n",
       "      <td>0.025000</td>\n",
       "    </tr>\n",
       "    <tr>\n",
       "      <th>KP481</th>\n",
       "      <td>0.016667</td>\n",
       "      <td>0.200000</td>\n",
       "      <td>0.650000</td>\n",
       "      <td>0.133333</td>\n",
       "      <td>0.000000</td>\n",
       "    </tr>\n",
       "    <tr>\n",
       "      <th>KP781</th>\n",
       "      <td>0.000000</td>\n",
       "      <td>0.000000</td>\n",
       "      <td>0.100000</td>\n",
       "      <td>0.175000</td>\n",
       "      <td>0.725000</td>\n",
       "    </tr>\n",
       "    <tr>\n",
       "      <th>All</th>\n",
       "      <td>0.011111</td>\n",
       "      <td>0.144444</td>\n",
       "      <td>0.538889</td>\n",
       "      <td>0.133333</td>\n",
       "      <td>0.172222</td>\n",
       "    </tr>\n",
       "  </tbody>\n",
       "</table>\n",
       "</div>"
      ],
      "text/plain": [
       "Fitness         1         2         3         4         5\n",
       "Product                                                  \n",
       "KP281    0.012500  0.175000  0.675000  0.112500  0.025000\n",
       "KP481    0.016667  0.200000  0.650000  0.133333  0.000000\n",
       "KP781    0.000000  0.000000  0.100000  0.175000  0.725000\n",
       "All      0.011111  0.144444  0.538889  0.133333  0.172222"
      ]
     },
     "metadata": {},
     "output_type": "display_data"
    }
   ],
   "source": [
    "figure, axes = plt.subplots(nrows=1,ncols=4,figsize=(20,10),sharey=True)\n",
    "\n",
    "(\n",
    "    sns\n",
    "    .countplot(\n",
    "               data=aero_df,\n",
    "               x='Fitness',\n",
    "               ax=axes[0])\n",
    ")\n",
    "(\n",
    "    sns\n",
    "    .countplot(\n",
    "               data=aero_df,\n",
    "               x='Fitness',\n",
    "               hue='Gender',\n",
    "               ax=axes[1])\n",
    ")\n",
    "(\n",
    "    sns\n",
    "    .countplot(\n",
    "               data=aero_df,\n",
    "               x='Fitness',\n",
    "               hue='Product',\n",
    "               ax=axes[3]\n",
    "               )\n",
    ")\n",
    "(\n",
    "    sns\n",
    "    .countplot(\n",
    "               data=aero_df,\n",
    "               x='Fitness',\n",
    "               hue='MaritalStatus',\n",
    "               ax=axes[2]\n",
    "               )\n",
    ")\n",
    "\n",
    "plt.show()\n",
    "print()\n",
    "\n",
    "d(\n",
    "    pd\n",
    "    .crosstab(\n",
    "                index=aero_df['Product'],\n",
    "                columns=aero_df['Fitness'],\n",
    "                margins=True\n",
    "             )\n",
    ")\n",
    "\n",
    "print()\n",
    "d('contingencytable converted to probability is given below')\n",
    "\n",
    "d(\n",
    "    pd\n",
    "    .crosstab(\n",
    "                index=aero_df['Product'],\n",
    "                columns=aero_df['Fitness'],\n",
    "                margins=True,\n",
    "                normalize=True\n",
    "             )\n",
    ")#for marginal probability\n",
    "\n",
    "print()\n",
    "d('conditional probability of rating based on the product is given below')\n",
    "\n",
    "d(\n",
    "    pd\n",
    "    .crosstab(\n",
    "                index=aero_df['Product'],\n",
    "                columns=aero_df['Fitness'],\n",
    "                margins=True,\n",
    "                normalize='index'\n",
    "             )\n",
    ")"
   ]
  },
  {
   "cell_type": "markdown",
   "id": "e622b013-2e25-4085-9fc4-9feb8807af51",
   "metadata": {},
   "source": [
    "#### Insights/Comments\n",
    "  There is 53% chance that the product you end up buying is good enough for most people to stay fit but not become great shape, also 17% chance that the product will make you feel in great shape..\n",
    "\n",
    "Given the product is KP281 probability of getting 3 rating is highest and 5 rating is low,\n",
    "\n",
    "Given the product is KP481 probability of getting 3 rating is highest and 5 is nill,\n",
    "\n",
    "Given the product is KP781 probability of getting 5 rating is highest and above 3 is for sure."
   ]
  },
  {
   "cell_type": "code",
   "execution_count": 32,
   "id": "74ef7d24-a392-4407-b1bd-35aec9fc1f2c",
   "metadata": {},
   "outputs": [
    {
     "data": {
      "image/png": "[encoded data removed]",
      "text/plain": [
       "<Figure size 1503.9x360 with 3 Axes>"
      ]
     },
     "metadata": {
      "needs_background": "light"
     },
     "output_type": "display_data"
    },
    {
     "data": {
      "image/png": "[encoded data removed]",
      "text/plain": [
       "<Figure size 1836x1080 with 4 Axes>"
      ]
     },
     "metadata": {
      "needs_background": "light"
     },
     "output_type": "display_data"
    },
    {
     "data": {
      "image/png": "[encoded data removed]",
      "text/plain": [
       "<Figure size 1503.9x360 with 3 Axes>"
      ]
     },
     "metadata": {
      "needs_background": "light"
     },
     "output_type": "display_data"
    }
   ],
   "source": [
    "(\n",
    "    sns\n",
    "    .catplot(\n",
    "                data=aero_df,\n",
    "                y='Income',\n",
    "                col='Product',\n",
    "                kind='box',\n",
    "                aspect=1.3925,\n",
    "                height=5)\n",
    ")\n",
    "\n",
    "plt.show()\n",
    "\n",
    "fig, axes = (\n",
    "            plt\n",
    "            .subplots( \n",
    "                        nrows=1, \n",
    "                        ncols=4,\n",
    "                        figsize=[25.5,15],\n",
    "                        sharey=True\n",
    "                     )\n",
    "            )\n",
    "\n",
    "(\n",
    "    sns\n",
    "    .scatterplot(\n",
    "                    data=aero_df, \n",
    "                    x='Age',\n",
    "                    y='Income', \n",
    "                    ax=axes[0]\n",
    "                )\n",
    ")\n",
    "(\n",
    "    sns\n",
    "    .regplot(\n",
    "             data=aero_df,\n",
    "             x='Age',\n",
    "             y='Income',\n",
    "             ax=axes[1]\n",
    "            )\n",
    ")\n",
    "(\n",
    "    sns\n",
    "    .scatterplot(\n",
    "                    data=aero_df,\n",
    "                    x='Age',\n",
    "                    y='Income',\n",
    "                    hue='Product', \n",
    "                    ax=axes[2],\n",
    "                )\n",
    ")\n",
    "\n",
    "(\n",
    "    sns\n",
    "    .scatterplot(\n",
    "                    data=aero_df,\n",
    "                    x='Age',\n",
    "                    y='Income',\n",
    "                    hue='MaritalStatus', \n",
    "                    ax=axes[3]\n",
    "                )\n",
    ")\n",
    "\n",
    "plt.show()\n",
    "\n",
    "# Postive correlation between age and income and also especially \n",
    "# for KP781 we can be afforded only with people of income above 50000k \n",
    "# and people with income above 70k is preferring KP781\n",
    "#### Comments\n",
    "\n",
    "plot = (\n",
    "        sns\n",
    "        .catplot(data=aero_df,\n",
    "                 x='Age',\n",
    "                 y='Income', \n",
    "                 col='Product', \n",
    "                 color='green',\n",
    "                 aspect=1.3925,\n",
    "                 height=5)\n",
    "       )\n",
    "\n",
    "plot.set_xticklabels(rotation=90)\n",
    "plot.set_titles(\"{col_name}\")\n",
    "plt.show()"
   ]
  },
  {
   "cell_type": "markdown",
   "id": "7e624381-3035-41dc-894d-a911d945633e",
   "metadata": {},
   "source": [
    "#### Insights/Comments\n",
    "There is a positive linear relation between age and income and with help of Product details we some linearity in the Treadill being bought, that is more the income higher is the chance of the most expensive treadmill being bought...\n",
    "We also see that people having above 70 are the best chance of selling the expensive products too.. we can dig deep to find who among the each income range are buying the available treadmills based on income profile..\n",
    "   \n",
    "\n",
    "The above plots give us many insights,\n",
    "   - Higher the income individuals tend to buy the expensive ones mid range and low range rarely buy the expensive ones\n",
    "   - From the higher income individuals partnered people buy the expensive treadmill as seen in the scatter plot in row 2 last column.\n",
    "   - Even though we see a linear increase of income by age we do see high income indivduals at a lower age and also higher income in older age as well, This may be a case of bimodal distribution where the incomerange is high for certain individuals and is far higher than the usual audience,\n",
    "   - More than age or Marital status, we can see income and possibly gender has influence on the products bought, atleast in case of the kp781\n",
    "\n",
    "\n",
    "Based on above plot scatter plot and current dataset , we can assign three new category of users based on the income ie, low, medium and high based on income range\n",
    "\n",
    "    10k to 45 k as low \n",
    "    46k to 65 k as med\n",
    "    and 66k above as high\n",
    "\n"
   ]
  },
  {
   "cell_type": "code",
   "execution_count": 33,
   "id": "a5e85de2-13da-4218-8a6a-47ebd9c7f027",
   "metadata": {},
   "outputs": [
    {
     "data": {
      "text/plain": [
       "Medium    89\n",
       "Low       63\n",
       "High      28\n",
       "Name: Inccategory, dtype: int64"
      ]
     },
     "metadata": {},
     "output_type": "display_data"
    },
    {
     "data": {
      "image/png": "[encoded data removed]",
      "text/plain": [
       "<Figure size 432x288 with 1 Axes>"
      ]
     },
     "metadata": {
      "needs_background": "light"
     },
     "output_type": "display_data"
    },
    {
     "data": {
      "image/png": "[encoded data removed]",
      "text/plain": [
       "<Figure size 432x288 with 1 Axes>"
      ]
     },
     "metadata": {
      "needs_background": "light"
     },
     "output_type": "display_data"
    },
    {
     "data": {
      "image/png": "[encoded data removed]",
      "text/plain": [
       "<Figure size 432x288 with 1 Axes>"
      ]
     },
     "metadata": {
      "needs_background": "light"
     },
     "output_type": "display_data"
    },
    {
     "data": {
      "image/png": "[encoded data removed]",
      "text/plain": [
       "<Figure size 1147.62x360 with 3 Axes>"
      ]
     },
     "metadata": {
      "needs_background": "light"
     },
     "output_type": "display_data"
    },
    {
     "data": {
      "image/png": "[encoded data removed]",
      "text/plain": [
       "<Figure size 1147.62x360 with 3 Axes>"
      ]
     },
     "metadata": {
      "needs_background": "light"
     },
     "output_type": "display_data"
    },
    {
     "data": {
      "image/png": "[encoded data removed]",
      "text/plain": [
       "<Figure size 1588.4x360 with 3 Axes>"
      ]
     },
     "metadata": {
      "needs_background": "light"
     },
     "output_type": "display_data"
    }
   ],
   "source": [
    "def define_cat(series):\n",
    "    if series >= 65000:\n",
    "        return 'High'\n",
    "    elif series >= 46000:\n",
    "        return 'Medium'\n",
    "    else:\n",
    "        return 'Low'\n",
    "\n",
    "\n",
    "aero_df_new = \\\n",
    "(\n",
    "    aero_df\n",
    "    .assign(\n",
    "            Inccategory = aero_df['Income']\n",
    "                          .apply(define_cat)\n",
    "           )\n",
    ")\n",
    "\n",
    "\n",
    "d(aero_df_new['Inccategory'].value_counts())\n",
    "\n",
    "(\n",
    "    sns\n",
    "    .histplot(\n",
    "              data=aero_df_new['Inccategory'], \n",
    "              shrink=0.5,\n",
    "              color='Grey',\n",
    "              )\n",
    ")\n",
    "\n",
    "plt.show()\n",
    "(\n",
    "    sns\n",
    "    .histplot(\n",
    "                data = aero_df_new, \n",
    "                x='Product',\n",
    "                hue='Inccategory',\n",
    "                shrink=0.5,\n",
    "                multiple='dodge',\n",
    "                stat='count',\n",
    "                # kde=False,#Toggle to see kde for the histogram  #### Comments\n",
    "             )\n",
    ")\n",
    "plt.show()\n",
    "(\n",
    "    sns\n",
    "    .histplot(\n",
    "                data = aero_df_new, \n",
    "                x='Inccategory',\n",
    "                hue='Product',\n",
    "                shrink=0.5,\n",
    "                multiple='dodge',\n",
    "                stat='count',\n",
    "                # kde=False,#Toggle to see kde for the histogram  #### Comments\n",
    "             )\n",
    ")\n",
    "plt.show()\n",
    "(\n",
    "    sns\n",
    "    .catplot(\n",
    "                data=aero_df_new,\n",
    "                x='MaritalStatus', \n",
    "                col='Inccategory',\n",
    "                hue='Product',\n",
    "                kind='count')\n",
    ")\n",
    "plt.show()\n",
    "(\n",
    "    sns\n",
    "    .catplot(\n",
    "             data=aero_df_new,\n",
    "             x='Gender',\n",
    "             col='Inccategory',\n",
    "             hue='Product',\n",
    "             kind='count')\n",
    ")\n",
    "plt.show()\n",
    "plot = (\n",
    "        sns\n",
    "        .catplot(data=aero_df,\n",
    "                 x='Gender',\n",
    "                 y='Income',\n",
    "                 hue='MaritalStatus',\n",
    "                 col='Product', \n",
    "                 aspect=1.3925,\n",
    "                 height=5,\n",
    "                 kind='box',sharex=True)\n",
    "       )\n",
    "plot.set_titles(\"{col_name}\")# setting product name as title for each plot #### comment\n",
    "plt.show()"
   ]
  },
  {
   "cell_type": "code",
   "execution_count": 34,
   "id": "053b17cc-9f47-4e95-932d-8475a229144f",
   "metadata": {},
   "outputs": [
    {
     "data": {
      "text/html": [
       "<div>\n",
       "<style scoped>\n",
       "    .dataframe tbody tr th:only-of-type {\n",
       "        vertical-align: middle;\n",
       "    }\n",
       "\n",
       "    .dataframe tbody tr th {\n",
       "        vertical-align: top;\n",
       "    }\n",
       "\n",
       "    .dataframe thead th {\n",
       "        text-align: right;\n",
       "    }\n",
       "</style>\n",
       "<table border=\"1\" class=\"dataframe\">\n",
       "  <thead>\n",
       "    <tr style=\"text-align: right;\">\n",
       "      <th>Inccategory</th>\n",
       "      <th>High</th>\n",
       "      <th>Low</th>\n",
       "      <th>Medium</th>\n",
       "      <th>All</th>\n",
       "    </tr>\n",
       "    <tr>\n",
       "      <th>Product</th>\n",
       "      <th></th>\n",
       "      <th></th>\n",
       "      <th></th>\n",
       "      <th></th>\n",
       "    </tr>\n",
       "  </thead>\n",
       "  <tbody>\n",
       "    <tr>\n",
       "      <th>KP281</th>\n",
       "      <td>2</td>\n",
       "      <td>39</td>\n",
       "      <td>39</td>\n",
       "      <td>80</td>\n",
       "    </tr>\n",
       "    <tr>\n",
       "      <th>KP481</th>\n",
       "      <td>2</td>\n",
       "      <td>24</td>\n",
       "      <td>34</td>\n",
       "      <td>60</td>\n",
       "    </tr>\n",
       "    <tr>\n",
       "      <th>KP781</th>\n",
       "      <td>24</td>\n",
       "      <td>0</td>\n",
       "      <td>16</td>\n",
       "      <td>40</td>\n",
       "    </tr>\n",
       "    <tr>\n",
       "      <th>All</th>\n",
       "      <td>28</td>\n",
       "      <td>63</td>\n",
       "      <td>89</td>\n",
       "      <td>180</td>\n",
       "    </tr>\n",
       "  </tbody>\n",
       "</table>\n",
       "</div>"
      ],
      "text/plain": [
       "Inccategory  High  Low  Medium  All\n",
       "Product                            \n",
       "KP281           2   39      39   80\n",
       "KP481           2   24      34   60\n",
       "KP781          24    0      16   40\n",
       "All            28   63      89  180"
      ]
     },
     "metadata": {},
     "output_type": "display_data"
    },
    {
     "data": {
      "text/plain": [
       "'contingencytable converted to probability is given below'"
      ]
     },
     "metadata": {},
     "output_type": "display_data"
    },
    {
     "data": {
      "text/html": [
       "<div>\n",
       "<style scoped>\n",
       "    .dataframe tbody tr th:only-of-type {\n",
       "        vertical-align: middle;\n",
       "    }\n",
       "\n",
       "    .dataframe tbody tr th {\n",
       "        vertical-align: top;\n",
       "    }\n",
       "\n",
       "    .dataframe thead th {\n",
       "        text-align: right;\n",
       "    }\n",
       "</style>\n",
       "<table border=\"1\" class=\"dataframe\">\n",
       "  <thead>\n",
       "    <tr style=\"text-align: right;\">\n",
       "      <th>Inccategory</th>\n",
       "      <th>High</th>\n",
       "      <th>Low</th>\n",
       "      <th>Medium</th>\n",
       "      <th>All</th>\n",
       "    </tr>\n",
       "    <tr>\n",
       "      <th>Product</th>\n",
       "      <th></th>\n",
       "      <th></th>\n",
       "      <th></th>\n",
       "      <th></th>\n",
       "    </tr>\n",
       "  </thead>\n",
       "  <tbody>\n",
       "    <tr>\n",
       "      <th>KP281</th>\n",
       "      <td>0.011111</td>\n",
       "      <td>0.216667</td>\n",
       "      <td>0.216667</td>\n",
       "      <td>0.444444</td>\n",
       "    </tr>\n",
       "    <tr>\n",
       "      <th>KP481</th>\n",
       "      <td>0.011111</td>\n",
       "      <td>0.133333</td>\n",
       "      <td>0.188889</td>\n",
       "      <td>0.333333</td>\n",
       "    </tr>\n",
       "    <tr>\n",
       "      <th>KP781</th>\n",
       "      <td>0.133333</td>\n",
       "      <td>0.000000</td>\n",
       "      <td>0.088889</td>\n",
       "      <td>0.222222</td>\n",
       "    </tr>\n",
       "    <tr>\n",
       "      <th>All</th>\n",
       "      <td>0.155556</td>\n",
       "      <td>0.350000</td>\n",
       "      <td>0.494444</td>\n",
       "      <td>1.000000</td>\n",
       "    </tr>\n",
       "  </tbody>\n",
       "</table>\n",
       "</div>"
      ],
      "text/plain": [
       "Inccategory      High       Low    Medium       All\n",
       "Product                                            \n",
       "KP281        0.011111  0.216667  0.216667  0.444444\n",
       "KP481        0.011111  0.133333  0.188889  0.333333\n",
       "KP781        0.133333  0.000000  0.088889  0.222222\n",
       "All          0.155556  0.350000  0.494444  1.000000"
      ]
     },
     "metadata": {},
     "output_type": "display_data"
    },
    {
     "data": {
      "text/plain": [
       "'conditional probability of Income category based on the product is given below'"
      ]
     },
     "metadata": {},
     "output_type": "display_data"
    },
    {
     "data": {
      "text/html": [
       "<div>\n",
       "<style scoped>\n",
       "    .dataframe tbody tr th:only-of-type {\n",
       "        vertical-align: middle;\n",
       "    }\n",
       "\n",
       "    .dataframe tbody tr th {\n",
       "        vertical-align: top;\n",
       "    }\n",
       "\n",
       "    .dataframe thead th {\n",
       "        text-align: right;\n",
       "    }\n",
       "</style>\n",
       "<table border=\"1\" class=\"dataframe\">\n",
       "  <thead>\n",
       "    <tr style=\"text-align: right;\">\n",
       "      <th>Inccategory</th>\n",
       "      <th>High</th>\n",
       "      <th>Low</th>\n",
       "      <th>Medium</th>\n",
       "    </tr>\n",
       "    <tr>\n",
       "      <th>Product</th>\n",
       "      <th></th>\n",
       "      <th></th>\n",
       "      <th></th>\n",
       "    </tr>\n",
       "  </thead>\n",
       "  <tbody>\n",
       "    <tr>\n",
       "      <th>KP281</th>\n",
       "      <td>0.025000</td>\n",
       "      <td>0.4875</td>\n",
       "      <td>0.487500</td>\n",
       "    </tr>\n",
       "    <tr>\n",
       "      <th>KP481</th>\n",
       "      <td>0.033333</td>\n",
       "      <td>0.4000</td>\n",
       "      <td>0.566667</td>\n",
       "    </tr>\n",
       "    <tr>\n",
       "      <th>KP781</th>\n",
       "      <td>0.600000</td>\n",
       "      <td>0.0000</td>\n",
       "      <td>0.400000</td>\n",
       "    </tr>\n",
       "    <tr>\n",
       "      <th>All</th>\n",
       "      <td>0.155556</td>\n",
       "      <td>0.3500</td>\n",
       "      <td>0.494444</td>\n",
       "    </tr>\n",
       "  </tbody>\n",
       "</table>\n",
       "</div>"
      ],
      "text/plain": [
       "Inccategory      High     Low    Medium\n",
       "Product                                \n",
       "KP281        0.025000  0.4875  0.487500\n",
       "KP481        0.033333  0.4000  0.566667\n",
       "KP781        0.600000  0.0000  0.400000\n",
       "All          0.155556  0.3500  0.494444"
      ]
     },
     "metadata": {},
     "output_type": "display_data"
    }
   ],
   "source": [
    "d(\n",
    "    pd\n",
    "    .crosstab(\n",
    "                index=aero_df_new['Product'],\n",
    "                columns=aero_df_new['Inccategory'],\n",
    "                margins=True\n",
    "             )\n",
    ")\n",
    "d('contingencytable converted to probability is given below')\n",
    "d(\n",
    "    pd\n",
    "    .crosstab(\n",
    "                index=aero_df_new['Product'],\n",
    "                columns=aero_df_new['Inccategory'],\n",
    "                margins=True,\n",
    "                normalize=True\n",
    "             )\n",
    ")#for marginal probability\n",
    "d('conditional probability of Income category based on the product is given below')\n",
    "d(\n",
    "    pd\n",
    "    .crosstab(\n",
    "                index=aero_df_new['Product'],\n",
    "                columns=aero_df_new['Inccategory'],\n",
    "                margins=True,\n",
    "                normalize='index'\n",
    "             )\n",
    ")#for conditional Probability"
   ]
  },
  {
   "cell_type": "markdown",
   "id": "f7db19e8-ff26-4875-8b58-72562fb99eb9",
   "metadata": {},
   "source": [
    "#### Insights/Comments\n",
    "1) The customers can be put into three main categories that is low, medium and high income,\n",
    "2) Out of these categories the medium income categories are the one which tend to buy most from aerofit followe by low\n",
    "3) Low and Medium categories prefer KP281 and KP481 and the High income only prefers the KP481 and above models(as per dataset) but they definitely prefer the premium product\n",
    "4) Out of all the income categories we can see that partnered people are the ones who buy most(the above mentioned inferences hold true as we categorise further)\n",
    "5) As we go into gender role in purchasing products we do see that males are thr top purchasers and they like to spend on all the tyes of treadmills\n",
    "6) if we cconsider the KP781 as expensive males are more interested in it than females also\n",
    "7) Males having medium income range tend to buy the prmium products unlike females, who would stick to cheaper or the good enough product(KP481)\n",
    "8) There a very few females who buy KP781 among the High income, this supports the inference no 7\n",
    "9) This proves that Income and Gender are the most important factor to consider while marketing or selling a product after that comes the Marital Status and then age..."
   ]
  },
  {
   "cell_type": "markdown",
   "id": "51cc2303-6d96-412c-854d-a52c7652eeda",
   "metadata": {
    "slideshow": {
     "slide_type": "subslide"
    },
    "tags": []
   },
   "source": [
    "## Recommendations/Comments\n",
    "1) There is mainly three things to consider while designing or marketing the treadmill products for customers\n",
    "    - First is their income range, then gender followed by marital status and age.\n",
    "    - High income individuals they prefer KP781.\n",
    "    - Medium income prefer a bit of all but KP481 and KP281 is preferred more.\n",
    "    - Low income doesnt prefer the KP781 model at all.\n",
    "    - Majority of customers are from the medium income category\n",
    "    \n",
    "     ###### Based on the conditions above certain suggestions would be as follows,\n",
    "     - Have enough stocks of KP281 and KP481 available.\n",
    "     - Create new variants of the KP281 having some features of KP481 and KP481 with some features of KP781, to attract more customers in the low income and medium income and give them a feel of products above their usual preference, with price range not too far from one model they might generally prefer. \n",
    "     - Add free service/repair or additional training instructions with the purchase of KD781 models as it is a expensive for purchase this would probably attract more medium incomee purchasers to buying the model...\n",
    " \n",
    "2) As we consider gender for recommendations, we can see males are the dominant buyers and females not equal in KP481 and KP781 model, Females tend to stick to KP281 and KP481.\n",
    "    ###### Based on the conditions above certain suggestions would be as follows,\n",
    "    - Advertise the products with more color variants or theme based on gender and preferences for both men and women.\n",
    "    - Partner with fit and sporty celebrities like dwayne johnson etc to do promotional marketing to attract even more male buyers.\\\n",
    "    - Add a product specifically for women and with prices in between KP281 and KP481.\n",
    "    \n",
    "3) As we consider marital status for recommendations, we can see married or partnered are the dominant buyers and with single individuals not too far behind... Married couple are the ones with higher income range\n",
    "    ###### Based on the conditions above certain suggestions would be as follows,\n",
    "    - Add products which are catering to family with service and maintanence as complement to retain the customers and to attract more families. They are the ones with higher chance of investing in a fitness equipment.\n",
    "    \n"
   ]
  }
 ],
 "metadata": {
  "kernelspec": {
   "display_name": "Python 3 (ipykernel)",
   "language": "python",
   "name": "python3"
  },
  "language_info": {
   "codemirror_mode": {
    "name": "ipython",
    "version": 3
   },
   "file_extension": ".py",
   "mimetype": "text/x-python",
   "name": "python",
   "nbconvert_exporter": "python",
   "pygments_lexer": "ipython3",
   "version": "3.9.12"
  }
 },
 "nbformat": 4,
 "nbformat_minor": 5
}
